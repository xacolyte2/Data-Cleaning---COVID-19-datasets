{
 "cells": [
  {
   "cell_type": "code",
   "execution_count": 1,
   "id": "e0ea1343",
   "metadata": {
    "_cell_guid": "b1076dfc-b9ad-4769-8c92-a6c4dae69d19",
    "_uuid": "8f2839f25d086af736a60e9eeb907d3b93b6e0e5",
    "execution": {
     "iopub.execute_input": "2024-08-29T04:15:39.241720Z",
     "iopub.status.busy": "2024-08-29T04:15:39.240988Z",
     "iopub.status.idle": "2024-08-29T04:15:40.139605Z",
     "shell.execute_reply": "2024-08-29T04:15:40.138550Z"
    },
    "papermill": {
     "duration": 0.920614,
     "end_time": "2024-08-29T04:15:40.142470",
     "exception": false,
     "start_time": "2024-08-29T04:15:39.221856",
     "status": "completed"
    },
    "tags": []
   },
   "outputs": [
    {
     "name": "stdout",
     "output_type": "stream",
     "text": [
      "/kaggle/input/daily-covid-19-data-2020-2024/WHO-COVID-19-global-data.csv\n",
      "/kaggle/input/daily-covid-19-data-2020-2024/Global COVID-19 Data (2020-2024)/Global COVID-19 Data (2020-2024)/WHO-COVID-19-global-table-data.csv\n",
      "/kaggle/input/daily-covid-19-data-2020-2024/Global COVID-19 Data (2020-2024)/Global COVID-19 Data (2020-2024)/vaccination-metadata.csv\n",
      "/kaggle/input/daily-covid-19-data-2020-2024/Global COVID-19 Data (2020-2024)/Global COVID-19 Data (2020-2024)/WHO-COVID-19-global-data.csv\n",
      "/kaggle/input/daily-covid-19-data-2020-2024/Global COVID-19 Data (2020-2024)/Global COVID-19 Data (2020-2024)/vaccination-data.csv\n"
     ]
    }
   ],
   "source": [
    "import numpy as np # linear algebra\n",
    "import pandas as pd # data processing, CSV file I/O (e.g. pd.read_csv)\n",
    "import os\n",
    "for dirname, _, filenames in os.walk('/kaggle/input'):\n",
    "    for filename in filenames:\n",
    "        print(os.path.join(dirname, filename))"
   ]
  },
  {
   "cell_type": "code",
   "execution_count": 2,
   "id": "e27a05f3",
   "metadata": {
    "execution": {
     "iopub.execute_input": "2024-08-29T04:15:40.182788Z",
     "iopub.status.busy": "2024-08-29T04:15:40.182224Z",
     "iopub.status.idle": "2024-08-29T04:15:40.316464Z",
     "shell.execute_reply": "2024-08-29T04:15:40.315437Z"
    },
    "papermill": {
     "duration": 0.155726,
     "end_time": "2024-08-29T04:15:40.319251",
     "exception": false,
     "start_time": "2024-08-29T04:15:40.163525",
     "status": "completed"
    },
    "tags": []
   },
   "outputs": [],
   "source": [
    "# Load the CSV files\n",
    "daily_covid_data = pd.read_csv('/kaggle/input/daily-covid-19-data-2020-2024/Global COVID-19 Data (2020-2024)/Global COVID-19 Data (2020-2024)/WHO-COVID-19-global-data.csv', sep=';')  # Assuming semicolon delimiter\n",
    "vaccination_data = pd.read_csv('/kaggle/input/daily-covid-19-data-2020-2024/Global COVID-19 Data (2020-2024)/Global COVID-19 Data (2020-2024)/vaccination-data.csv', sep=';')"
   ]
  },
  {
   "cell_type": "markdown",
   "id": "60fbdba7",
   "metadata": {
    "papermill": {
     "duration": 0.017139,
     "end_time": "2024-08-29T04:15:40.356309",
     "exception": false,
     "start_time": "2024-08-29T04:15:40.339170",
     "status": "completed"
    },
    "tags": []
   },
   "source": [
    "---------------\n",
    "\n",
    "# Data Cleaning of: WHO-COVID-19-global-data"
   ]
  },
  {
   "cell_type": "code",
   "execution_count": 3,
   "id": "c7a054eb",
   "metadata": {
    "execution": {
     "iopub.execute_input": "2024-08-29T04:15:40.392911Z",
     "iopub.status.busy": "2024-08-29T04:15:40.392568Z",
     "iopub.status.idle": "2024-08-29T04:15:40.424866Z",
     "shell.execute_reply": "2024-08-29T04:15:40.423754Z"
    },
    "papermill": {
     "duration": 0.053301,
     "end_time": "2024-08-29T04:15:40.427489",
     "exception": false,
     "start_time": "2024-08-29T04:15:40.374188",
     "status": "completed"
    },
    "tags": []
   },
   "outputs": [
    {
     "data": {
      "text/html": [
       "<div>\n",
       "<style scoped>\n",
       "    .dataframe tbody tr th:only-of-type {\n",
       "        vertical-align: middle;\n",
       "    }\n",
       "\n",
       "    .dataframe tbody tr th {\n",
       "        vertical-align: top;\n",
       "    }\n",
       "\n",
       "    .dataframe thead th {\n",
       "        text-align: right;\n",
       "    }\n",
       "</style>\n",
       "<table border=\"1\" class=\"dataframe\">\n",
       "  <thead>\n",
       "    <tr style=\"text-align: right;\">\n",
       "      <th></th>\n",
       "      <th>Date_reported</th>\n",
       "      <th>Country_code</th>\n",
       "      <th>Country</th>\n",
       "      <th>WHO_region</th>\n",
       "      <th>New_cases</th>\n",
       "      <th>Cumulative_cases</th>\n",
       "      <th>New_deaths</th>\n",
       "      <th>Cumulative_deaths</th>\n",
       "    </tr>\n",
       "  </thead>\n",
       "  <tbody>\n",
       "    <tr>\n",
       "      <th>0</th>\n",
       "      <td>05/01/2020</td>\n",
       "      <td>AF</td>\n",
       "      <td>Afghanistan</td>\n",
       "      <td>EMRO</td>\n",
       "      <td>NaN</td>\n",
       "      <td>0</td>\n",
       "      <td>NaN</td>\n",
       "      <td>0</td>\n",
       "    </tr>\n",
       "    <tr>\n",
       "      <th>1</th>\n",
       "      <td>12/01/2020</td>\n",
       "      <td>AF</td>\n",
       "      <td>Afghanistan</td>\n",
       "      <td>EMRO</td>\n",
       "      <td>NaN</td>\n",
       "      <td>0</td>\n",
       "      <td>NaN</td>\n",
       "      <td>0</td>\n",
       "    </tr>\n",
       "    <tr>\n",
       "      <th>2</th>\n",
       "      <td>19/01/2020</td>\n",
       "      <td>AF</td>\n",
       "      <td>Afghanistan</td>\n",
       "      <td>EMRO</td>\n",
       "      <td>NaN</td>\n",
       "      <td>0</td>\n",
       "      <td>NaN</td>\n",
       "      <td>0</td>\n",
       "    </tr>\n",
       "    <tr>\n",
       "      <th>3</th>\n",
       "      <td>26/01/2020</td>\n",
       "      <td>AF</td>\n",
       "      <td>Afghanistan</td>\n",
       "      <td>EMRO</td>\n",
       "      <td>NaN</td>\n",
       "      <td>0</td>\n",
       "      <td>NaN</td>\n",
       "      <td>0</td>\n",
       "    </tr>\n",
       "    <tr>\n",
       "      <th>4</th>\n",
       "      <td>02/02/2020</td>\n",
       "      <td>AF</td>\n",
       "      <td>Afghanistan</td>\n",
       "      <td>EMRO</td>\n",
       "      <td>NaN</td>\n",
       "      <td>0</td>\n",
       "      <td>NaN</td>\n",
       "      <td>0</td>\n",
       "    </tr>\n",
       "    <tr>\n",
       "      <th>5</th>\n",
       "      <td>09/02/2020</td>\n",
       "      <td>AF</td>\n",
       "      <td>Afghanistan</td>\n",
       "      <td>EMRO</td>\n",
       "      <td>NaN</td>\n",
       "      <td>0</td>\n",
       "      <td>NaN</td>\n",
       "      <td>0</td>\n",
       "    </tr>\n",
       "    <tr>\n",
       "      <th>6</th>\n",
       "      <td>16/02/2020</td>\n",
       "      <td>AF</td>\n",
       "      <td>Afghanistan</td>\n",
       "      <td>EMRO</td>\n",
       "      <td>NaN</td>\n",
       "      <td>0</td>\n",
       "      <td>NaN</td>\n",
       "      <td>0</td>\n",
       "    </tr>\n",
       "    <tr>\n",
       "      <th>7</th>\n",
       "      <td>23/02/2020</td>\n",
       "      <td>AF</td>\n",
       "      <td>Afghanistan</td>\n",
       "      <td>EMRO</td>\n",
       "      <td>NaN</td>\n",
       "      <td>0</td>\n",
       "      <td>NaN</td>\n",
       "      <td>0</td>\n",
       "    </tr>\n",
       "    <tr>\n",
       "      <th>8</th>\n",
       "      <td>01/03/2020</td>\n",
       "      <td>AF</td>\n",
       "      <td>Afghanistan</td>\n",
       "      <td>EMRO</td>\n",
       "      <td>1.0</td>\n",
       "      <td>1</td>\n",
       "      <td>NaN</td>\n",
       "      <td>0</td>\n",
       "    </tr>\n",
       "    <tr>\n",
       "      <th>9</th>\n",
       "      <td>08/03/2020</td>\n",
       "      <td>AF</td>\n",
       "      <td>Afghanistan</td>\n",
       "      <td>EMRO</td>\n",
       "      <td>NaN</td>\n",
       "      <td>1</td>\n",
       "      <td>NaN</td>\n",
       "      <td>0</td>\n",
       "    </tr>\n",
       "    <tr>\n",
       "      <th>10</th>\n",
       "      <td>15/03/2020</td>\n",
       "      <td>AF</td>\n",
       "      <td>Afghanistan</td>\n",
       "      <td>EMRO</td>\n",
       "      <td>6.0</td>\n",
       "      <td>7</td>\n",
       "      <td>NaN</td>\n",
       "      <td>0</td>\n",
       "    </tr>\n",
       "    <tr>\n",
       "      <th>11</th>\n",
       "      <td>22/03/2020</td>\n",
       "      <td>AF</td>\n",
       "      <td>Afghanistan</td>\n",
       "      <td>EMRO</td>\n",
       "      <td>17.0</td>\n",
       "      <td>24</td>\n",
       "      <td>NaN</td>\n",
       "      <td>0</td>\n",
       "    </tr>\n",
       "    <tr>\n",
       "      <th>12</th>\n",
       "      <td>29/03/2020</td>\n",
       "      <td>AF</td>\n",
       "      <td>Afghanistan</td>\n",
       "      <td>EMRO</td>\n",
       "      <td>67.0</td>\n",
       "      <td>91</td>\n",
       "      <td>2.0</td>\n",
       "      <td>2</td>\n",
       "    </tr>\n",
       "    <tr>\n",
       "      <th>13</th>\n",
       "      <td>05/04/2020</td>\n",
       "      <td>AF</td>\n",
       "      <td>Afghanistan</td>\n",
       "      <td>EMRO</td>\n",
       "      <td>183.0</td>\n",
       "      <td>274</td>\n",
       "      <td>3.0</td>\n",
       "      <td>5</td>\n",
       "    </tr>\n",
       "    <tr>\n",
       "      <th>14</th>\n",
       "      <td>12/04/2020</td>\n",
       "      <td>AF</td>\n",
       "      <td>Afghanistan</td>\n",
       "      <td>EMRO</td>\n",
       "      <td>247.0</td>\n",
       "      <td>521</td>\n",
       "      <td>10.0</td>\n",
       "      <td>15</td>\n",
       "    </tr>\n",
       "    <tr>\n",
       "      <th>15</th>\n",
       "      <td>19/04/2020</td>\n",
       "      <td>AF</td>\n",
       "      <td>Afghanistan</td>\n",
       "      <td>EMRO</td>\n",
       "      <td>387.0</td>\n",
       "      <td>908</td>\n",
       "      <td>15.0</td>\n",
       "      <td>30</td>\n",
       "    </tr>\n",
       "    <tr>\n",
       "      <th>16</th>\n",
       "      <td>26/04/2020</td>\n",
       "      <td>AF</td>\n",
       "      <td>Afghanistan</td>\n",
       "      <td>EMRO</td>\n",
       "      <td>422.0</td>\n",
       "      <td>1330</td>\n",
       "      <td>13.0</td>\n",
       "      <td>43</td>\n",
       "    </tr>\n",
       "    <tr>\n",
       "      <th>17</th>\n",
       "      <td>03/05/2020</td>\n",
       "      <td>AF</td>\n",
       "      <td>Afghanistan</td>\n",
       "      <td>EMRO</td>\n",
       "      <td>841.0</td>\n",
       "      <td>2171</td>\n",
       "      <td>21.0</td>\n",
       "      <td>64</td>\n",
       "    </tr>\n",
       "    <tr>\n",
       "      <th>18</th>\n",
       "      <td>10/05/2020</td>\n",
       "      <td>AF</td>\n",
       "      <td>Afghanistan</td>\n",
       "      <td>EMRO</td>\n",
       "      <td>1392.0</td>\n",
       "      <td>3563</td>\n",
       "      <td>41.0</td>\n",
       "      <td>105</td>\n",
       "    </tr>\n",
       "    <tr>\n",
       "      <th>19</th>\n",
       "      <td>17/05/2020</td>\n",
       "      <td>AF</td>\n",
       "      <td>Afghanistan</td>\n",
       "      <td>EMRO</td>\n",
       "      <td>2490.0</td>\n",
       "      <td>6053</td>\n",
       "      <td>48.0</td>\n",
       "      <td>153</td>\n",
       "    </tr>\n",
       "  </tbody>\n",
       "</table>\n",
       "</div>"
      ],
      "text/plain": [
       "   Date_reported Country_code      Country WHO_region  New_cases  \\\n",
       "0     05/01/2020           AF  Afghanistan       EMRO        NaN   \n",
       "1     12/01/2020           AF  Afghanistan       EMRO        NaN   \n",
       "2     19/01/2020           AF  Afghanistan       EMRO        NaN   \n",
       "3     26/01/2020           AF  Afghanistan       EMRO        NaN   \n",
       "4     02/02/2020           AF  Afghanistan       EMRO        NaN   \n",
       "5     09/02/2020           AF  Afghanistan       EMRO        NaN   \n",
       "6     16/02/2020           AF  Afghanistan       EMRO        NaN   \n",
       "7     23/02/2020           AF  Afghanistan       EMRO        NaN   \n",
       "8     01/03/2020           AF  Afghanistan       EMRO        1.0   \n",
       "9     08/03/2020           AF  Afghanistan       EMRO        NaN   \n",
       "10    15/03/2020           AF  Afghanistan       EMRO        6.0   \n",
       "11    22/03/2020           AF  Afghanistan       EMRO       17.0   \n",
       "12    29/03/2020           AF  Afghanistan       EMRO       67.0   \n",
       "13    05/04/2020           AF  Afghanistan       EMRO      183.0   \n",
       "14    12/04/2020           AF  Afghanistan       EMRO      247.0   \n",
       "15    19/04/2020           AF  Afghanistan       EMRO      387.0   \n",
       "16    26/04/2020           AF  Afghanistan       EMRO      422.0   \n",
       "17    03/05/2020           AF  Afghanistan       EMRO      841.0   \n",
       "18    10/05/2020           AF  Afghanistan       EMRO     1392.0   \n",
       "19    17/05/2020           AF  Afghanistan       EMRO     2490.0   \n",
       "\n",
       "    Cumulative_cases  New_deaths  Cumulative_deaths  \n",
       "0                  0         NaN                  0  \n",
       "1                  0         NaN                  0  \n",
       "2                  0         NaN                  0  \n",
       "3                  0         NaN                  0  \n",
       "4                  0         NaN                  0  \n",
       "5                  0         NaN                  0  \n",
       "6                  0         NaN                  0  \n",
       "7                  0         NaN                  0  \n",
       "8                  1         NaN                  0  \n",
       "9                  1         NaN                  0  \n",
       "10                 7         NaN                  0  \n",
       "11                24         NaN                  0  \n",
       "12                91         2.0                  2  \n",
       "13               274         3.0                  5  \n",
       "14               521        10.0                 15  \n",
       "15               908        15.0                 30  \n",
       "16              1330        13.0                 43  \n",
       "17              2171        21.0                 64  \n",
       "18              3563        41.0                105  \n",
       "19              6053        48.0                153  "
      ]
     },
     "execution_count": 3,
     "metadata": {},
     "output_type": "execute_result"
    }
   ],
   "source": [
    "daily_covid_data.head(20)"
   ]
  },
  {
   "cell_type": "code",
   "execution_count": 4,
   "id": "b67f9272",
   "metadata": {
    "execution": {
     "iopub.execute_input": "2024-08-29T04:15:40.469474Z",
     "iopub.status.busy": "2024-08-29T04:15:40.469138Z",
     "iopub.status.idle": "2024-08-29T04:15:40.503131Z",
     "shell.execute_reply": "2024-08-29T04:15:40.502016Z"
    },
    "papermill": {
     "duration": 0.057785,
     "end_time": "2024-08-29T04:15:40.505591",
     "exception": false,
     "start_time": "2024-08-29T04:15:40.447806",
     "status": "completed"
    },
    "tags": []
   },
   "outputs": [
    {
     "data": {
      "text/plain": [
       "Date_reported            0\n",
       "Country_code           241\n",
       "Country                  0\n",
       "WHO_region            4338\n",
       "New_cases            18812\n",
       "Cumulative_cases         0\n",
       "New_deaths           32839\n",
       "Cumulative_deaths        0\n",
       "dtype: int64"
      ]
     },
     "execution_count": 4,
     "metadata": {},
     "output_type": "execute_result"
    }
   ],
   "source": [
    "daily_covid_data.isna().sum()"
   ]
  },
  {
   "cell_type": "code",
   "execution_count": 5,
   "id": "5a6bbe20",
   "metadata": {
    "execution": {
     "iopub.execute_input": "2024-08-29T04:15:40.545321Z",
     "iopub.status.busy": "2024-08-29T04:15:40.545002Z",
     "iopub.status.idle": "2024-08-29T04:15:40.551088Z",
     "shell.execute_reply": "2024-08-29T04:15:40.550041Z"
    },
    "papermill": {
     "duration": 0.027872,
     "end_time": "2024-08-29T04:15:40.553366",
     "exception": false,
     "start_time": "2024-08-29T04:15:40.525494",
     "status": "completed"
    },
    "tags": []
   },
   "outputs": [
    {
     "data": {
      "text/plain": [
       "(57840, 8)"
      ]
     },
     "execution_count": 5,
     "metadata": {},
     "output_type": "execute_result"
    }
   ],
   "source": [
    "daily_covid_data.shape"
   ]
  },
  {
   "cell_type": "code",
   "execution_count": 6,
   "id": "d41ed503",
   "metadata": {
    "execution": {
     "iopub.execute_input": "2024-08-29T04:15:40.591915Z",
     "iopub.status.busy": "2024-08-29T04:15:40.591194Z",
     "iopub.status.idle": "2024-08-29T04:15:40.616664Z",
     "shell.execute_reply": "2024-08-29T04:15:40.615671Z"
    },
    "papermill": {
     "duration": 0.047818,
     "end_time": "2024-08-29T04:15:40.619634",
     "exception": false,
     "start_time": "2024-08-29T04:15:40.571816",
     "status": "completed"
    },
    "tags": []
   },
   "outputs": [],
   "source": [
    "daily_covid_data = daily_covid_data.dropna(subset=['Country_code'])"
   ]
  },
  {
   "cell_type": "markdown",
   "id": "9631a470",
   "metadata": {
    "papermill": {
     "duration": 0.017814,
     "end_time": "2024-08-29T04:15:40.661480",
     "exception": false,
     "start_time": "2024-08-29T04:15:40.643666",
     "status": "completed"
    },
    "tags": []
   },
   "source": [
    "- Dropped Null values in column 'Country_code' cause it has 241 Null values out of 57840 rows"
   ]
  },
  {
   "cell_type": "code",
   "execution_count": 7,
   "id": "44c002ce",
   "metadata": {
    "execution": {
     "iopub.execute_input": "2024-08-29T04:15:40.698748Z",
     "iopub.status.busy": "2024-08-29T04:15:40.698425Z",
     "iopub.status.idle": "2024-08-29T04:15:40.711483Z",
     "shell.execute_reply": "2024-08-29T04:15:40.710522Z"
    },
    "papermill": {
     "duration": 0.0349,
     "end_time": "2024-08-29T04:15:40.714349",
     "exception": false,
     "start_time": "2024-08-29T04:15:40.679449",
     "status": "completed"
    },
    "tags": []
   },
   "outputs": [],
   "source": [
    "daily_covid_data['WHO_region'] =daily_covid_data['WHO_region'].fillna('unknown')"
   ]
  },
  {
   "cell_type": "markdown",
   "id": "fa4a5f52",
   "metadata": {
    "papermill": {
     "duration": 0.01785,
     "end_time": "2024-08-29T04:15:40.755950",
     "exception": false,
     "start_time": "2024-08-29T04:15:40.738100",
     "status": "completed"
    },
    "tags": []
   },
   "source": [
    "- filled every unknown region with 'unknown'"
   ]
  },
  {
   "cell_type": "code",
   "execution_count": 8,
   "id": "cb677bca",
   "metadata": {
    "execution": {
     "iopub.execute_input": "2024-08-29T04:15:40.793119Z",
     "iopub.status.busy": "2024-08-29T04:15:40.792777Z",
     "iopub.status.idle": "2024-08-29T04:15:40.826945Z",
     "shell.execute_reply": "2024-08-29T04:15:40.826026Z"
    },
    "papermill": {
     "duration": 0.05526,
     "end_time": "2024-08-29T04:15:40.829333",
     "exception": false,
     "start_time": "2024-08-29T04:15:40.774073",
     "status": "completed"
    },
    "tags": []
   },
   "outputs": [
    {
     "data": {
      "text/plain": [
       "Date_reported            0\n",
       "Country_code             0\n",
       "Country                  0\n",
       "WHO_region               0\n",
       "New_cases            18769\n",
       "Cumulative_cases         0\n",
       "New_deaths           32723\n",
       "Cumulative_deaths        0\n",
       "dtype: int64"
      ]
     },
     "execution_count": 8,
     "metadata": {},
     "output_type": "execute_result"
    }
   ],
   "source": [
    "daily_covid_data.isna().sum()"
   ]
  },
  {
   "cell_type": "code",
   "execution_count": 9,
   "id": "74c3833c",
   "metadata": {
    "execution": {
     "iopub.execute_input": "2024-08-29T04:15:40.867016Z",
     "iopub.status.busy": "2024-08-29T04:15:40.866286Z",
     "iopub.status.idle": "2024-08-29T04:15:40.906356Z",
     "shell.execute_reply": "2024-08-29T04:15:40.905210Z"
    },
    "papermill": {
     "duration": 0.061703,
     "end_time": "2024-08-29T04:15:40.908849",
     "exception": false,
     "start_time": "2024-08-29T04:15:40.847146",
     "status": "completed"
    },
    "tags": []
   },
   "outputs": [
    {
     "data": {
      "text/html": [
       "<div>\n",
       "<style scoped>\n",
       "    .dataframe tbody tr th:only-of-type {\n",
       "        vertical-align: middle;\n",
       "    }\n",
       "\n",
       "    .dataframe tbody tr th {\n",
       "        vertical-align: top;\n",
       "    }\n",
       "\n",
       "    .dataframe thead th {\n",
       "        text-align: right;\n",
       "    }\n",
       "</style>\n",
       "<table border=\"1\" class=\"dataframe\">\n",
       "  <thead>\n",
       "    <tr style=\"text-align: right;\">\n",
       "      <th></th>\n",
       "      <th>count</th>\n",
       "      <th>mean</th>\n",
       "      <th>std</th>\n",
       "      <th>min</th>\n",
       "      <th>25%</th>\n",
       "      <th>50%</th>\n",
       "      <th>75%</th>\n",
       "      <th>max</th>\n",
       "    </tr>\n",
       "  </thead>\n",
       "  <tbody>\n",
       "    <tr>\n",
       "      <th>New_cases</th>\n",
       "      <td>38830.0</td>\n",
       "      <td>1.997797e+04</td>\n",
       "      <td>2.714684e+05</td>\n",
       "      <td>-65079.0</td>\n",
       "      <td>43.0</td>\n",
       "      <td>394.5</td>\n",
       "      <td>4015.0</td>\n",
       "      <td>40475477.0</td>\n",
       "    </tr>\n",
       "    <tr>\n",
       "      <th>Cumulative_cases</th>\n",
       "      <td>57599.0</td>\n",
       "      <td>1.799611e+06</td>\n",
       "      <td>7.813230e+06</td>\n",
       "      <td>0.0</td>\n",
       "      <td>4115.5</td>\n",
       "      <td>45852.0</td>\n",
       "      <td>531723.5</td>\n",
       "      <td>103436829.0</td>\n",
       "    </tr>\n",
       "    <tr>\n",
       "      <th>New_deaths</th>\n",
       "      <td>24876.0</td>\n",
       "      <td>2.835775e+02</td>\n",
       "      <td>1.217300e+03</td>\n",
       "      <td>-3432.0</td>\n",
       "      <td>4.0</td>\n",
       "      <td>20.0</td>\n",
       "      <td>106.0</td>\n",
       "      <td>47687.0</td>\n",
       "    </tr>\n",
       "    <tr>\n",
       "      <th>Cumulative_deaths</th>\n",
       "      <td>57599.0</td>\n",
       "      <td>2.008246e+04</td>\n",
       "      <td>8.202777e+04</td>\n",
       "      <td>0.0</td>\n",
       "      <td>28.0</td>\n",
       "      <td>552.0</td>\n",
       "      <td>7118.0</td>\n",
       "      <td>1194158.0</td>\n",
       "    </tr>\n",
       "  </tbody>\n",
       "</table>\n",
       "</div>"
      ],
      "text/plain": [
       "                     count          mean           std      min     25%  \\\n",
       "New_cases          38830.0  1.997797e+04  2.714684e+05 -65079.0    43.0   \n",
       "Cumulative_cases   57599.0  1.799611e+06  7.813230e+06      0.0  4115.5   \n",
       "New_deaths         24876.0  2.835775e+02  1.217300e+03  -3432.0     4.0   \n",
       "Cumulative_deaths  57599.0  2.008246e+04  8.202777e+04      0.0    28.0   \n",
       "\n",
       "                       50%       75%          max  \n",
       "New_cases            394.5    4015.0   40475477.0  \n",
       "Cumulative_cases   45852.0  531723.5  103436829.0  \n",
       "New_deaths            20.0     106.0      47687.0  \n",
       "Cumulative_deaths    552.0    7118.0    1194158.0  "
      ]
     },
     "execution_count": 9,
     "metadata": {},
     "output_type": "execute_result"
    }
   ],
   "source": [
    "daily_covid_data.describe().T"
   ]
  },
  {
   "cell_type": "code",
   "execution_count": 10,
   "id": "18ec2d27",
   "metadata": {
    "execution": {
     "iopub.execute_input": "2024-08-29T04:15:40.950879Z",
     "iopub.status.busy": "2024-08-29T04:15:40.950496Z",
     "iopub.status.idle": "2024-08-29T04:15:40.996560Z",
     "shell.execute_reply": "2024-08-29T04:15:40.995600Z"
    },
    "papermill": {
     "duration": 0.069653,
     "end_time": "2024-08-29T04:15:40.999211",
     "exception": false,
     "start_time": "2024-08-29T04:15:40.929558",
     "status": "completed"
    },
    "tags": []
   },
   "outputs": [
    {
     "data": {
      "text/plain": [
       "0"
      ]
     },
     "execution_count": 10,
     "metadata": {},
     "output_type": "execute_result"
    }
   ],
   "source": [
    "daily_covid_data.duplicated().sum()"
   ]
  },
  {
   "cell_type": "markdown",
   "id": "b24c9700",
   "metadata": {
    "papermill": {
     "duration": 0.018355,
     "end_time": "2024-08-29T04:15:41.041747",
     "exception": false,
     "start_time": "2024-08-29T04:15:41.023392",
     "status": "completed"
    },
    "tags": []
   },
   "source": [
    "- No duplicates in the data"
   ]
  },
  {
   "cell_type": "code",
   "execution_count": 11,
   "id": "546cbc41",
   "metadata": {
    "execution": {
     "iopub.execute_input": "2024-08-29T04:15:41.081931Z",
     "iopub.status.busy": "2024-08-29T04:15:41.081599Z",
     "iopub.status.idle": "2024-08-29T04:15:41.095705Z",
     "shell.execute_reply": "2024-08-29T04:15:41.094889Z"
    },
    "papermill": {
     "duration": 0.035996,
     "end_time": "2024-08-29T04:15:41.097875",
     "exception": false,
     "start_time": "2024-08-29T04:15:41.061879",
     "status": "completed"
    },
    "tags": []
   },
   "outputs": [],
   "source": [
    "Q1 = daily_covid_data['New_cases'].quantile(0.25)\n",
    "Q3 = daily_covid_data['New_cases'].quantile(0.75)\n",
    "IQR = Q3 - Q1\n",
    "min = Q1 - 1.5 * IQR\n",
    "max = Q3 + 1.5 * IQR\n",
    "daily_covid_data = daily_covid_data[(daily_covid_data['New_cases'] >= min) & (daily_covid_data['New_cases'] <= max)]"
   ]
  },
  {
   "cell_type": "markdown",
   "id": "3767d4e8",
   "metadata": {
    "papermill": {
     "duration": 0.018419,
     "end_time": "2024-08-29T04:15:41.134833",
     "exception": false,
     "start_time": "2024-08-29T04:15:41.116414",
     "status": "completed"
    },
    "tags": []
   },
   "source": [
    "- removed outliers from columns 'New_cases' and 'Cumulative_cases' and 'New_deaths' and 'Cumulative_deaths'"
   ]
  },
  {
   "cell_type": "code",
   "execution_count": 12,
   "id": "06d97f81",
   "metadata": {
    "execution": {
     "iopub.execute_input": "2024-08-29T04:15:41.173261Z",
     "iopub.status.busy": "2024-08-29T04:15:41.172901Z",
     "iopub.status.idle": "2024-08-29T04:15:41.183735Z",
     "shell.execute_reply": "2024-08-29T04:15:41.183005Z"
    },
    "papermill": {
     "duration": 0.03245,
     "end_time": "2024-08-29T04:15:41.185974",
     "exception": false,
     "start_time": "2024-08-29T04:15:41.153524",
     "status": "completed"
    },
    "tags": []
   },
   "outputs": [],
   "source": [
    "Q1 = daily_covid_data['Cumulative_cases'].quantile(0.25)\n",
    "Q3 = daily_covid_data['Cumulative_cases'].quantile(0.75)\n",
    "IQR = Q3 - Q1\n",
    "min = Q1 - 1.5 * IQR\n",
    "max = Q3 + 1.5 * IQR\n",
    "daily_covid_data = daily_covid_data[(daily_covid_data['Cumulative_cases'] >= min) & (daily_covid_data['Cumulative_cases'] <= max)]"
   ]
  },
  {
   "cell_type": "code",
   "execution_count": 13,
   "id": "1e0ab4cb",
   "metadata": {
    "execution": {
     "iopub.execute_input": "2024-08-29T04:15:41.224428Z",
     "iopub.status.busy": "2024-08-29T04:15:41.224106Z",
     "iopub.status.idle": "2024-08-29T04:15:41.233860Z",
     "shell.execute_reply": "2024-08-29T04:15:41.233086Z"
    },
    "papermill": {
     "duration": 0.031916,
     "end_time": "2024-08-29T04:15:41.236070",
     "exception": false,
     "start_time": "2024-08-29T04:15:41.204154",
     "status": "completed"
    },
    "tags": []
   },
   "outputs": [],
   "source": [
    "Q1 = daily_covid_data['New_deaths'].quantile(0.25)\n",
    "Q3 = daily_covid_data['New_deaths'].quantile(0.75)\n",
    "IQR = Q3 - Q1\n",
    "min = Q1 - 1.5 * IQR\n",
    "max = Q3 + 1.5 * IQR\n",
    "daily_covid_data = daily_covid_data[(daily_covid_data['New_deaths'] >= min) & (daily_covid_data['New_deaths'] <= max)]"
   ]
  },
  {
   "cell_type": "code",
   "execution_count": 14,
   "id": "baa6d3d6",
   "metadata": {
    "execution": {
     "iopub.execute_input": "2024-08-29T04:15:41.274088Z",
     "iopub.status.busy": "2024-08-29T04:15:41.273752Z",
     "iopub.status.idle": "2024-08-29T04:15:41.282953Z",
     "shell.execute_reply": "2024-08-29T04:15:41.282163Z"
    },
    "papermill": {
     "duration": 0.03086,
     "end_time": "2024-08-29T04:15:41.285226",
     "exception": false,
     "start_time": "2024-08-29T04:15:41.254366",
     "status": "completed"
    },
    "tags": []
   },
   "outputs": [],
   "source": [
    "Q1 = daily_covid_data['Cumulative_deaths'].quantile(0.25)\n",
    "Q3 = daily_covid_data['Cumulative_deaths'].quantile(0.75)\n",
    "IQR = Q3 - Q1\n",
    "min = Q1 - 1.5 * IQR\n",
    "max = Q3 + 1.5 * IQR\n",
    "daily_covid_data = daily_covid_data[(daily_covid_data['Cumulative_deaths'] >= min) & (daily_covid_data['Cumulative_deaths'] <= max)]"
   ]
  },
  {
   "cell_type": "code",
   "execution_count": 15,
   "id": "c7cd5f67",
   "metadata": {
    "execution": {
     "iopub.execute_input": "2024-08-29T04:15:41.323163Z",
     "iopub.status.busy": "2024-08-29T04:15:41.322662Z",
     "iopub.status.idle": "2024-08-29T04:15:41.350411Z",
     "shell.execute_reply": "2024-08-29T04:15:41.349505Z"
    },
    "papermill": {
     "duration": 0.049135,
     "end_time": "2024-08-29T04:15:41.352639",
     "exception": false,
     "start_time": "2024-08-29T04:15:41.303504",
     "status": "completed"
    },
    "tags": []
   },
   "outputs": [
    {
     "data": {
      "text/html": [
       "<div>\n",
       "<style scoped>\n",
       "    .dataframe tbody tr th:only-of-type {\n",
       "        vertical-align: middle;\n",
       "    }\n",
       "\n",
       "    .dataframe tbody tr th {\n",
       "        vertical-align: top;\n",
       "    }\n",
       "\n",
       "    .dataframe thead th {\n",
       "        text-align: right;\n",
       "    }\n",
       "</style>\n",
       "<table border=\"1\" class=\"dataframe\">\n",
       "  <thead>\n",
       "    <tr style=\"text-align: right;\">\n",
       "      <th></th>\n",
       "      <th>count</th>\n",
       "      <th>mean</th>\n",
       "      <th>std</th>\n",
       "      <th>min</th>\n",
       "      <th>25%</th>\n",
       "      <th>50%</th>\n",
       "      <th>75%</th>\n",
       "      <th>max</th>\n",
       "    </tr>\n",
       "  </thead>\n",
       "  <tbody>\n",
       "    <tr>\n",
       "      <th>New_cases</th>\n",
       "      <td>11241.0</td>\n",
       "      <td>1253.724402</td>\n",
       "      <td>1830.344519</td>\n",
       "      <td>-88.0</td>\n",
       "      <td>131.0</td>\n",
       "      <td>459.0</td>\n",
       "      <td>1526.0</td>\n",
       "      <td>9961.0</td>\n",
       "    </tr>\n",
       "    <tr>\n",
       "      <th>Cumulative_cases</th>\n",
       "      <td>11241.0</td>\n",
       "      <td>83638.993239</td>\n",
       "      <td>134724.108525</td>\n",
       "      <td>1.0</td>\n",
       "      <td>6655.0</td>\n",
       "      <td>25383.0</td>\n",
       "      <td>98211.0</td>\n",
       "      <td>982307.0</td>\n",
       "    </tr>\n",
       "    <tr>\n",
       "      <th>New_deaths</th>\n",
       "      <td>11241.0</td>\n",
       "      <td>13.233253</td>\n",
       "      <td>17.527773</td>\n",
       "      <td>-3.0</td>\n",
       "      <td>2.0</td>\n",
       "      <td>5.0</td>\n",
       "      <td>18.0</td>\n",
       "      <td>77.0</td>\n",
       "    </tr>\n",
       "    <tr>\n",
       "      <th>Cumulative_deaths</th>\n",
       "      <td>11241.0</td>\n",
       "      <td>1000.285028</td>\n",
       "      <td>1388.967704</td>\n",
       "      <td>1.0</td>\n",
       "      <td>90.0</td>\n",
       "      <td>341.0</td>\n",
       "      <td>1324.0</td>\n",
       "      <td>6185.0</td>\n",
       "    </tr>\n",
       "  </tbody>\n",
       "</table>\n",
       "</div>"
      ],
      "text/plain": [
       "                     count          mean            std   min     25%  \\\n",
       "New_cases          11241.0   1253.724402    1830.344519 -88.0   131.0   \n",
       "Cumulative_cases   11241.0  83638.993239  134724.108525   1.0  6655.0   \n",
       "New_deaths         11241.0     13.233253      17.527773  -3.0     2.0   \n",
       "Cumulative_deaths  11241.0   1000.285028    1388.967704   1.0    90.0   \n",
       "\n",
       "                       50%      75%       max  \n",
       "New_cases            459.0   1526.0    9961.0  \n",
       "Cumulative_cases   25383.0  98211.0  982307.0  \n",
       "New_deaths             5.0     18.0      77.0  \n",
       "Cumulative_deaths    341.0   1324.0    6185.0  "
      ]
     },
     "execution_count": 15,
     "metadata": {},
     "output_type": "execute_result"
    }
   ],
   "source": [
    "daily_covid_data.describe().T"
   ]
  },
  {
   "cell_type": "code",
   "execution_count": 16,
   "id": "c0c7735b",
   "metadata": {
    "execution": {
     "iopub.execute_input": "2024-08-29T04:15:41.390657Z",
     "iopub.status.busy": "2024-08-29T04:15:41.390339Z",
     "iopub.status.idle": "2024-08-29T04:15:41.399001Z",
     "shell.execute_reply": "2024-08-29T04:15:41.397950Z"
    },
    "papermill": {
     "duration": 0.030096,
     "end_time": "2024-08-29T04:15:41.401166",
     "exception": false,
     "start_time": "2024-08-29T04:15:41.371070",
     "status": "completed"
    },
    "tags": []
   },
   "outputs": [],
   "source": [
    "daily_covid_data['New_cases'] = daily_covid_data['New_cases'].clip(lower=0)\n",
    "daily_covid_data['New_deaths'] = daily_covid_data['New_deaths'].clip(lower=0)"
   ]
  },
  {
   "cell_type": "markdown",
   "id": "506e8f75",
   "metadata": {
    "papermill": {
     "duration": 0.01839,
     "end_time": "2024-08-29T04:15:41.438032",
     "exception": false,
     "start_time": "2024-08-29T04:15:41.419642",
     "status": "completed"
    },
    "tags": []
   },
   "source": [
    "- changing Negative Values in \"New_cases\" and \"New_dearhs\" into Zeros cause it doesn't make sense in the context of COVID-19 data."
   ]
  },
  {
   "cell_type": "code",
   "execution_count": 17,
   "id": "f50a483c",
   "metadata": {
    "execution": {
     "iopub.execute_input": "2024-08-29T04:15:41.475995Z",
     "iopub.status.busy": "2024-08-29T04:15:41.475682Z",
     "iopub.status.idle": "2024-08-29T04:15:41.501415Z",
     "shell.execute_reply": "2024-08-29T04:15:41.500492Z"
    },
    "papermill": {
     "duration": 0.047001,
     "end_time": "2024-08-29T04:15:41.503522",
     "exception": false,
     "start_time": "2024-08-29T04:15:41.456521",
     "status": "completed"
    },
    "tags": []
   },
   "outputs": [
    {
     "data": {
      "text/html": [
       "<div>\n",
       "<style scoped>\n",
       "    .dataframe tbody tr th:only-of-type {\n",
       "        vertical-align: middle;\n",
       "    }\n",
       "\n",
       "    .dataframe tbody tr th {\n",
       "        vertical-align: top;\n",
       "    }\n",
       "\n",
       "    .dataframe thead th {\n",
       "        text-align: right;\n",
       "    }\n",
       "</style>\n",
       "<table border=\"1\" class=\"dataframe\">\n",
       "  <thead>\n",
       "    <tr style=\"text-align: right;\">\n",
       "      <th></th>\n",
       "      <th>count</th>\n",
       "      <th>mean</th>\n",
       "      <th>std</th>\n",
       "      <th>min</th>\n",
       "      <th>25%</th>\n",
       "      <th>50%</th>\n",
       "      <th>75%</th>\n",
       "      <th>max</th>\n",
       "    </tr>\n",
       "  </thead>\n",
       "  <tbody>\n",
       "    <tr>\n",
       "      <th>New_cases</th>\n",
       "      <td>11241.0</td>\n",
       "      <td>1253.732497</td>\n",
       "      <td>1830.338785</td>\n",
       "      <td>0.0</td>\n",
       "      <td>131.0</td>\n",
       "      <td>459.0</td>\n",
       "      <td>1526.0</td>\n",
       "      <td>9961.0</td>\n",
       "    </tr>\n",
       "    <tr>\n",
       "      <th>Cumulative_cases</th>\n",
       "      <td>11241.0</td>\n",
       "      <td>83638.993239</td>\n",
       "      <td>134724.108525</td>\n",
       "      <td>1.0</td>\n",
       "      <td>6655.0</td>\n",
       "      <td>25383.0</td>\n",
       "      <td>98211.0</td>\n",
       "      <td>982307.0</td>\n",
       "    </tr>\n",
       "    <tr>\n",
       "      <th>New_deaths</th>\n",
       "      <td>11241.0</td>\n",
       "      <td>13.233698</td>\n",
       "      <td>17.527409</td>\n",
       "      <td>0.0</td>\n",
       "      <td>2.0</td>\n",
       "      <td>5.0</td>\n",
       "      <td>18.0</td>\n",
       "      <td>77.0</td>\n",
       "    </tr>\n",
       "    <tr>\n",
       "      <th>Cumulative_deaths</th>\n",
       "      <td>11241.0</td>\n",
       "      <td>1000.285028</td>\n",
       "      <td>1388.967704</td>\n",
       "      <td>1.0</td>\n",
       "      <td>90.0</td>\n",
       "      <td>341.0</td>\n",
       "      <td>1324.0</td>\n",
       "      <td>6185.0</td>\n",
       "    </tr>\n",
       "  </tbody>\n",
       "</table>\n",
       "</div>"
      ],
      "text/plain": [
       "                     count          mean            std  min     25%      50%  \\\n",
       "New_cases          11241.0   1253.732497    1830.338785  0.0   131.0    459.0   \n",
       "Cumulative_cases   11241.0  83638.993239  134724.108525  1.0  6655.0  25383.0   \n",
       "New_deaths         11241.0     13.233698      17.527409  0.0     2.0      5.0   \n",
       "Cumulative_deaths  11241.0   1000.285028    1388.967704  1.0    90.0    341.0   \n",
       "\n",
       "                       75%       max  \n",
       "New_cases           1526.0    9961.0  \n",
       "Cumulative_cases   98211.0  982307.0  \n",
       "New_deaths            18.0      77.0  \n",
       "Cumulative_deaths   1324.0    6185.0  "
      ]
     },
     "execution_count": 17,
     "metadata": {},
     "output_type": "execute_result"
    }
   ],
   "source": [
    "daily_covid_data.describe().T"
   ]
  },
  {
   "cell_type": "code",
   "execution_count": 18,
   "id": "a3e2c7ea",
   "metadata": {
    "execution": {
     "iopub.execute_input": "2024-08-29T04:15:41.542033Z",
     "iopub.status.busy": "2024-08-29T04:15:41.541723Z",
     "iopub.status.idle": "2024-08-29T04:15:41.554482Z",
     "shell.execute_reply": "2024-08-29T04:15:41.553593Z"
    },
    "papermill": {
     "duration": 0.0341,
     "end_time": "2024-08-29T04:15:41.556481",
     "exception": false,
     "start_time": "2024-08-29T04:15:41.522381",
     "status": "completed"
    },
    "tags": []
   },
   "outputs": [
    {
     "data": {
      "text/plain": [
       "Date_reported        0\n",
       "Country_code         0\n",
       "Country              0\n",
       "WHO_region           0\n",
       "New_cases            0\n",
       "Cumulative_cases     0\n",
       "New_deaths           0\n",
       "Cumulative_deaths    0\n",
       "dtype: int64"
      ]
     },
     "execution_count": 18,
     "metadata": {},
     "output_type": "execute_result"
    }
   ],
   "source": [
    "daily_covid_data.isna().sum()"
   ]
  },
  {
   "cell_type": "markdown",
   "id": "72ea2abd",
   "metadata": {
    "papermill": {
     "duration": 0.018957,
     "end_time": "2024-08-29T04:15:41.594166",
     "exception": false,
     "start_time": "2024-08-29T04:15:41.575209",
     "status": "completed"
    },
    "tags": []
   },
   "source": [
    "- By removing the Outliers, All the Null values that were located in columns \"New_cases\" and \"New_deaths\" were all Outliers so they were removed too"
   ]
  },
  {
   "cell_type": "markdown",
   "id": "761f502d",
   "metadata": {
    "papermill": {
     "duration": 0.018854,
     "end_time": "2024-08-29T04:15:41.631999",
     "exception": false,
     "start_time": "2024-08-29T04:15:41.613145",
     "status": "completed"
    },
    "tags": []
   },
   "source": [
    "- No Null Values\n",
    "- No Duplicates\n",
    "- No Outliers\n",
    "- No inconsistency\n",
    "- No Wrong Datatype\n",
    "- Data is Cleaned"
   ]
  },
  {
   "cell_type": "markdown",
   "id": "8ab6d976",
   "metadata": {
    "papermill": {
     "duration": 0.01862,
     "end_time": "2024-08-29T04:15:41.669359",
     "exception": false,
     "start_time": "2024-08-29T04:15:41.650739",
     "status": "completed"
    },
    "tags": []
   },
   "source": [
    "---------------\n",
    "\n",
    "# Data Cleaning of: Vaccination-data"
   ]
  },
  {
   "cell_type": "code",
   "execution_count": 19,
   "id": "98b3e967",
   "metadata": {
    "execution": {
     "iopub.execute_input": "2024-08-29T04:15:41.708244Z",
     "iopub.status.busy": "2024-08-29T04:15:41.707922Z",
     "iopub.status.idle": "2024-08-29T04:15:41.738721Z",
     "shell.execute_reply": "2024-08-29T04:15:41.737707Z"
    },
    "papermill": {
     "duration": 0.05276,
     "end_time": "2024-08-29T04:15:41.740940",
     "exception": false,
     "start_time": "2024-08-29T04:15:41.688180",
     "status": "completed"
    },
    "tags": []
   },
   "outputs": [
    {
     "data": {
      "text/html": [
       "<div>\n",
       "<style scoped>\n",
       "    .dataframe tbody tr th:only-of-type {\n",
       "        vertical-align: middle;\n",
       "    }\n",
       "\n",
       "    .dataframe tbody tr th {\n",
       "        vertical-align: top;\n",
       "    }\n",
       "\n",
       "    .dataframe thead th {\n",
       "        text-align: right;\n",
       "    }\n",
       "</style>\n",
       "<table border=\"1\" class=\"dataframe\">\n",
       "  <thead>\n",
       "    <tr style=\"text-align: right;\">\n",
       "      <th></th>\n",
       "      <th>COUNTRY</th>\n",
       "      <th>ISO3</th>\n",
       "      <th>WHO_REGION</th>\n",
       "      <th>DATA_SOURCE</th>\n",
       "      <th>DATE_UPDATED</th>\n",
       "      <th>TOTAL_VACCINATIONS</th>\n",
       "      <th>PERSONS_VACCINATED_1PLUS_DOSE</th>\n",
       "      <th>TOTAL_VACCINATIONS_PER100</th>\n",
       "      <th>PERSONS_VACCINATED_1PLUS_DOSE_PER100</th>\n",
       "      <th>PERSONS_LAST_DOSE</th>\n",
       "      <th>PERSONS_LAST_DOSE_PER100</th>\n",
       "      <th>VACCINES_USED</th>\n",
       "      <th>FIRST_VACCINE_DATE</th>\n",
       "      <th>NUMBER_VACCINES_TYPES_USED</th>\n",
       "      <th>PERSONS_BOOSTER_ADD_DOSE</th>\n",
       "      <th>PERSONS_BOOSTER_ADD_DOSE_PER100</th>\n",
       "      <th>Unnamed: 16</th>\n",
       "    </tr>\n",
       "  </thead>\n",
       "  <tbody>\n",
       "    <tr>\n",
       "      <th>0</th>\n",
       "      <td>Aruba</td>\n",
       "      <td>ABW</td>\n",
       "      <td>AMRO</td>\n",
       "      <td>REPORTING</td>\n",
       "      <td>29/12/2023</td>\n",
       "      <td>217124</td>\n",
       "      <td>90493.0</td>\n",
       "      <td>203.0</td>\n",
       "      <td>85.0</td>\n",
       "      <td>84363.0</td>\n",
       "      <td>79.0</td>\n",
       "      <td>NaN</td>\n",
       "      <td>17/02/2021</td>\n",
       "      <td>NaN</td>\n",
       "      <td>35659.0</td>\n",
       "      <td>33.0</td>\n",
       "      <td>NaN</td>\n",
       "    </tr>\n",
       "    <tr>\n",
       "      <th>1</th>\n",
       "      <td>Afghanistan</td>\n",
       "      <td>AFG</td>\n",
       "      <td>EMRO</td>\n",
       "      <td>REPORTING</td>\n",
       "      <td>31/12/2023</td>\n",
       "      <td>2.30E+07</td>\n",
       "      <td>19200000.0</td>\n",
       "      <td>59.0</td>\n",
       "      <td>49.0</td>\n",
       "      <td>18400000.0</td>\n",
       "      <td>47.0</td>\n",
       "      <td>NaN</td>\n",
       "      <td>22/02/2021</td>\n",
       "      <td>NaN</td>\n",
       "      <td>2729940.0</td>\n",
       "      <td>7.0</td>\n",
       "      <td>NaN</td>\n",
       "    </tr>\n",
       "    <tr>\n",
       "      <th>2</th>\n",
       "      <td>Angola</td>\n",
       "      <td>AGO</td>\n",
       "      <td>AFRO</td>\n",
       "      <td>REPORTING</td>\n",
       "      <td>31/12/2023</td>\n",
       "      <td>2.78E+07</td>\n",
       "      <td>16600000.0</td>\n",
       "      <td>85.0</td>\n",
       "      <td>50.0</td>\n",
       "      <td>9609080.0</td>\n",
       "      <td>29.0</td>\n",
       "      <td>NaN</td>\n",
       "      <td>10/03/2021</td>\n",
       "      <td>NaN</td>\n",
       "      <td>3067091.0</td>\n",
       "      <td>9.0</td>\n",
       "      <td>NaN</td>\n",
       "    </tr>\n",
       "    <tr>\n",
       "      <th>3</th>\n",
       "      <td>Anguilla</td>\n",
       "      <td>AIA</td>\n",
       "      <td>AMRO</td>\n",
       "      <td>REPORTING</td>\n",
       "      <td>29/12/2023</td>\n",
       "      <td>24864</td>\n",
       "      <td>10858.0</td>\n",
       "      <td>166.0</td>\n",
       "      <td>72.0</td>\n",
       "      <td>10382.0</td>\n",
       "      <td>69.0</td>\n",
       "      <td>NaN</td>\n",
       "      <td>05/02/2021</td>\n",
       "      <td>NaN</td>\n",
       "      <td>3231.0</td>\n",
       "      <td>22.0</td>\n",
       "      <td>NaN</td>\n",
       "    </tr>\n",
       "    <tr>\n",
       "      <th>4</th>\n",
       "      <td>Albania</td>\n",
       "      <td>ALB</td>\n",
       "      <td>EURO</td>\n",
       "      <td>REPORTING</td>\n",
       "      <td>23/12/2023</td>\n",
       "      <td>3088966</td>\n",
       "      <td>1349255.0</td>\n",
       "      <td>107.0</td>\n",
       "      <td>47.0</td>\n",
       "      <td>1279333.0</td>\n",
       "      <td>44.0</td>\n",
       "      <td>NaN</td>\n",
       "      <td>13/01/2021</td>\n",
       "      <td>NaN</td>\n",
       "      <td>402371.0</td>\n",
       "      <td>14.0</td>\n",
       "      <td>NaN</td>\n",
       "    </tr>\n",
       "    <tr>\n",
       "      <th>5</th>\n",
       "      <td>Andorra</td>\n",
       "      <td>AND</td>\n",
       "      <td>EURO</td>\n",
       "      <td>REPORTING</td>\n",
       "      <td>23/12/2023</td>\n",
       "      <td>157072</td>\n",
       "      <td>57913.0</td>\n",
       "      <td>203.0</td>\n",
       "      <td>75.0</td>\n",
       "      <td>53501.0</td>\n",
       "      <td>69.0</td>\n",
       "      <td>NaN</td>\n",
       "      <td>20/01/2021</td>\n",
       "      <td>NaN</td>\n",
       "      <td>43071.0</td>\n",
       "      <td>56.0</td>\n",
       "      <td>NaN</td>\n",
       "    </tr>\n",
       "    <tr>\n",
       "      <th>6</th>\n",
       "      <td>Argentina</td>\n",
       "      <td>ARG</td>\n",
       "      <td>AMRO</td>\n",
       "      <td>REPORTING</td>\n",
       "      <td>29/12/2023</td>\n",
       "      <td>1.17E+08</td>\n",
       "      <td>41200000.0</td>\n",
       "      <td>258.0</td>\n",
       "      <td>91.0</td>\n",
       "      <td>38100000.0</td>\n",
       "      <td>84.0</td>\n",
       "      <td>NaN</td>\n",
       "      <td>29/12/2020</td>\n",
       "      <td>NaN</td>\n",
       "      <td>27700000.0</td>\n",
       "      <td>61.0</td>\n",
       "      <td>NaN</td>\n",
       "    </tr>\n",
       "    <tr>\n",
       "      <th>7</th>\n",
       "      <td>Armenia</td>\n",
       "      <td>ARM</td>\n",
       "      <td>EURO</td>\n",
       "      <td>REPORTING</td>\n",
       "      <td>23/12/2023</td>\n",
       "      <td>2256919</td>\n",
       "      <td>1150915.0</td>\n",
       "      <td>76.0</td>\n",
       "      <td>39.0</td>\n",
       "      <td>1030758.0</td>\n",
       "      <td>35.0</td>\n",
       "      <td>NaN</td>\n",
       "      <td>27/01/2021</td>\n",
       "      <td>NaN</td>\n",
       "      <td>81354.0</td>\n",
       "      <td>3.0</td>\n",
       "      <td>NaN</td>\n",
       "    </tr>\n",
       "    <tr>\n",
       "      <th>8</th>\n",
       "      <td>Antigua and Barbuda</td>\n",
       "      <td>ATG</td>\n",
       "      <td>AMRO</td>\n",
       "      <td>REPORTING</td>\n",
       "      <td>29/12/2023</td>\n",
       "      <td>136512</td>\n",
       "      <td>64290.0</td>\n",
       "      <td>139.0</td>\n",
       "      <td>66.0</td>\n",
       "      <td>62384.0</td>\n",
       "      <td>64.0</td>\n",
       "      <td>NaN</td>\n",
       "      <td>01/03/2021</td>\n",
       "      <td>NaN</td>\n",
       "      <td>9838.0</td>\n",
       "      <td>10.0</td>\n",
       "      <td>NaN</td>\n",
       "    </tr>\n",
       "    <tr>\n",
       "      <th>9</th>\n",
       "      <td>Australia</td>\n",
       "      <td>AUS</td>\n",
       "      <td>WPRO</td>\n",
       "      <td>REPORTING</td>\n",
       "      <td>31/12/2023</td>\n",
       "      <td>6.97E+07</td>\n",
       "      <td>22400000.0</td>\n",
       "      <td>273.0</td>\n",
       "      <td>88.0</td>\n",
       "      <td>21800000.0</td>\n",
       "      <td>85.0</td>\n",
       "      <td>NaN</td>\n",
       "      <td>21/02/2021</td>\n",
       "      <td>NaN</td>\n",
       "      <td>14400000.0</td>\n",
       "      <td>56.0</td>\n",
       "      <td>NaN</td>\n",
       "    </tr>\n",
       "  </tbody>\n",
       "</table>\n",
       "</div>"
      ],
      "text/plain": [
       "               COUNTRY ISO3 WHO_REGION DATA_SOURCE DATE_UPDATED  \\\n",
       "0                Aruba  ABW       AMRO   REPORTING   29/12/2023   \n",
       "1          Afghanistan  AFG       EMRO   REPORTING   31/12/2023   \n",
       "2               Angola  AGO       AFRO   REPORTING   31/12/2023   \n",
       "3             Anguilla  AIA       AMRO   REPORTING   29/12/2023   \n",
       "4              Albania  ALB       EURO   REPORTING   23/12/2023   \n",
       "5              Andorra  AND       EURO   REPORTING   23/12/2023   \n",
       "6            Argentina  ARG       AMRO   REPORTING   29/12/2023   \n",
       "7              Armenia  ARM       EURO   REPORTING   23/12/2023   \n",
       "8  Antigua and Barbuda  ATG       AMRO   REPORTING   29/12/2023   \n",
       "9            Australia  AUS       WPRO   REPORTING   31/12/2023   \n",
       "\n",
       "  TOTAL_VACCINATIONS  PERSONS_VACCINATED_1PLUS_DOSE  \\\n",
       "0             217124                        90493.0   \n",
       "1           2.30E+07                     19200000.0   \n",
       "2           2.78E+07                     16600000.0   \n",
       "3              24864                        10858.0   \n",
       "4            3088966                      1349255.0   \n",
       "5             157072                        57913.0   \n",
       "6           1.17E+08                     41200000.0   \n",
       "7            2256919                      1150915.0   \n",
       "8             136512                        64290.0   \n",
       "9           6.97E+07                     22400000.0   \n",
       "\n",
       "   TOTAL_VACCINATIONS_PER100  PERSONS_VACCINATED_1PLUS_DOSE_PER100  \\\n",
       "0                      203.0                                  85.0   \n",
       "1                       59.0                                  49.0   \n",
       "2                       85.0                                  50.0   \n",
       "3                      166.0                                  72.0   \n",
       "4                      107.0                                  47.0   \n",
       "5                      203.0                                  75.0   \n",
       "6                      258.0                                  91.0   \n",
       "7                       76.0                                  39.0   \n",
       "8                      139.0                                  66.0   \n",
       "9                      273.0                                  88.0   \n",
       "\n",
       "   PERSONS_LAST_DOSE  PERSONS_LAST_DOSE_PER100  VACCINES_USED  \\\n",
       "0            84363.0                      79.0            NaN   \n",
       "1         18400000.0                      47.0            NaN   \n",
       "2          9609080.0                      29.0            NaN   \n",
       "3            10382.0                      69.0            NaN   \n",
       "4          1279333.0                      44.0            NaN   \n",
       "5            53501.0                      69.0            NaN   \n",
       "6         38100000.0                      84.0            NaN   \n",
       "7          1030758.0                      35.0            NaN   \n",
       "8            62384.0                      64.0            NaN   \n",
       "9         21800000.0                      85.0            NaN   \n",
       "\n",
       "  FIRST_VACCINE_DATE NUMBER_VACCINES_TYPES_USED  PERSONS_BOOSTER_ADD_DOSE  \\\n",
       "0         17/02/2021                        NaN                   35659.0   \n",
       "1         22/02/2021                        NaN                 2729940.0   \n",
       "2         10/03/2021                        NaN                 3067091.0   \n",
       "3         05/02/2021                        NaN                    3231.0   \n",
       "4         13/01/2021                        NaN                  402371.0   \n",
       "5         20/01/2021                        NaN                   43071.0   \n",
       "6         29/12/2020                        NaN                27700000.0   \n",
       "7         27/01/2021                        NaN                   81354.0   \n",
       "8         01/03/2021                        NaN                    9838.0   \n",
       "9         21/02/2021                        NaN                14400000.0   \n",
       "\n",
       "   PERSONS_BOOSTER_ADD_DOSE_PER100  Unnamed: 16  \n",
       "0                             33.0          NaN  \n",
       "1                              7.0          NaN  \n",
       "2                              9.0          NaN  \n",
       "3                             22.0          NaN  \n",
       "4                             14.0          NaN  \n",
       "5                             56.0          NaN  \n",
       "6                             61.0          NaN  \n",
       "7                              3.0          NaN  \n",
       "8                             10.0          NaN  \n",
       "9                             56.0          NaN  "
      ]
     },
     "execution_count": 19,
     "metadata": {},
     "output_type": "execute_result"
    }
   ],
   "source": [
    "vaccination_data.head(10)"
   ]
  },
  {
   "cell_type": "code",
   "execution_count": 20,
   "id": "11ac4d2b",
   "metadata": {
    "execution": {
     "iopub.execute_input": "2024-08-29T04:15:41.780685Z",
     "iopub.status.busy": "2024-08-29T04:15:41.780390Z",
     "iopub.status.idle": "2024-08-29T04:15:41.788673Z",
     "shell.execute_reply": "2024-08-29T04:15:41.787626Z"
    },
    "papermill": {
     "duration": 0.030848,
     "end_time": "2024-08-29T04:15:41.791104",
     "exception": false,
     "start_time": "2024-08-29T04:15:41.760256",
     "status": "completed"
    },
    "tags": []
   },
   "outputs": [
    {
     "data": {
      "text/plain": [
       "COUNTRY                                   0\n",
       "ISO3                                      0\n",
       "WHO_REGION                                5\n",
       "DATA_SOURCE                               1\n",
       "DATE_UPDATED                              4\n",
       "TOTAL_VACCINATIONS                        6\n",
       "PERSONS_VACCINATED_1PLUS_DOSE             6\n",
       "TOTAL_VACCINATIONS_PER100                 8\n",
       "PERSONS_VACCINATED_1PLUS_DOSE_PER100      8\n",
       "PERSONS_LAST_DOSE                         6\n",
       "PERSONS_LAST_DOSE_PER100                  8\n",
       "VACCINES_USED                           214\n",
       "FIRST_VACCINE_DATE                       20\n",
       "NUMBER_VACCINES_TYPES_USED              214\n",
       "PERSONS_BOOSTER_ADD_DOSE                 21\n",
       "PERSONS_BOOSTER_ADD_DOSE_PER100          31\n",
       "Unnamed: 16                             214\n",
       "dtype: int64"
      ]
     },
     "execution_count": 20,
     "metadata": {},
     "output_type": "execute_result"
    }
   ],
   "source": [
    "vaccination_data.isna().sum()"
   ]
  },
  {
   "cell_type": "code",
   "execution_count": 21,
   "id": "2f12dadc",
   "metadata": {
    "execution": {
     "iopub.execute_input": "2024-08-29T04:15:41.833463Z",
     "iopub.status.busy": "2024-08-29T04:15:41.833169Z",
     "iopub.status.idle": "2024-08-29T04:15:41.838976Z",
     "shell.execute_reply": "2024-08-29T04:15:41.838016Z"
    },
    "papermill": {
     "duration": 0.028679,
     "end_time": "2024-08-29T04:15:41.841143",
     "exception": false,
     "start_time": "2024-08-29T04:15:41.812464",
     "status": "completed"
    },
    "tags": []
   },
   "outputs": [
    {
     "data": {
      "text/plain": [
       "(215, 17)"
      ]
     },
     "execution_count": 21,
     "metadata": {},
     "output_type": "execute_result"
    }
   ],
   "source": [
    "vaccination_data.shape"
   ]
  },
  {
   "cell_type": "code",
   "execution_count": 22,
   "id": "b54faeda",
   "metadata": {
    "execution": {
     "iopub.execute_input": "2024-08-29T04:15:41.881740Z",
     "iopub.status.busy": "2024-08-29T04:15:41.881418Z",
     "iopub.status.idle": "2024-08-29T04:15:41.886844Z",
     "shell.execute_reply": "2024-08-29T04:15:41.885753Z"
    },
    "papermill": {
     "duration": 0.02862,
     "end_time": "2024-08-29T04:15:41.889451",
     "exception": false,
     "start_time": "2024-08-29T04:15:41.860831",
     "status": "completed"
    },
    "tags": []
   },
   "outputs": [],
   "source": [
    "vaccination_data['DATA_SOURCE'] = vaccination_data['DATA_SOURCE'].fillna(\"REPORTING\")"
   ]
  },
  {
   "cell_type": "markdown",
   "id": "1bd2e6c6",
   "metadata": {
    "papermill": {
     "duration": 0.019357,
     "end_time": "2024-08-29T04:15:41.930512",
     "exception": false,
     "start_time": "2024-08-29T04:15:41.911155",
     "status": "completed"
    },
    "tags": []
   },
   "source": [
    "- Filling every Null Value with \"REPORTING\" in column 'DATA_SOURCE' as the rest of the data in the column"
   ]
  },
  {
   "cell_type": "code",
   "execution_count": 23,
   "id": "101d0a26",
   "metadata": {
    "execution": {
     "iopub.execute_input": "2024-08-29T04:15:41.970840Z",
     "iopub.status.busy": "2024-08-29T04:15:41.970557Z",
     "iopub.status.idle": "2024-08-29T04:15:41.975411Z",
     "shell.execute_reply": "2024-08-29T04:15:41.974481Z"
    },
    "papermill": {
     "duration": 0.027396,
     "end_time": "2024-08-29T04:15:41.977526",
     "exception": false,
     "start_time": "2024-08-29T04:15:41.950130",
     "status": "completed"
    },
    "tags": []
   },
   "outputs": [],
   "source": [
    "vaccination_data['WHO_REGION'] =vaccination_data['WHO_REGION'].fillna('unknown')"
   ]
  },
  {
   "cell_type": "markdown",
   "id": "87a87945",
   "metadata": {
    "papermill": {
     "duration": 0.020966,
     "end_time": "2024-08-29T04:15:42.018100",
     "exception": false,
     "start_time": "2024-08-29T04:15:41.997134",
     "status": "completed"
    },
    "tags": []
   },
   "source": [
    "- Filling unknown Regions with \"unknown\""
   ]
  },
  {
   "cell_type": "code",
   "execution_count": 24,
   "id": "c2ae8f6e",
   "metadata": {
    "execution": {
     "iopub.execute_input": "2024-08-29T04:15:42.059269Z",
     "iopub.status.busy": "2024-08-29T04:15:42.058915Z",
     "iopub.status.idle": "2024-08-29T04:15:42.065379Z",
     "shell.execute_reply": "2024-08-29T04:15:42.064466Z"
    },
    "papermill": {
     "duration": 0.029497,
     "end_time": "2024-08-29T04:15:42.067523",
     "exception": false,
     "start_time": "2024-08-29T04:15:42.038026",
     "status": "completed"
    },
    "tags": []
   },
   "outputs": [],
   "source": [
    "vaccination_data = vaccination_data.dropna(subset=['DATE_UPDATED'])"
   ]
  },
  {
   "cell_type": "markdown",
   "id": "06bfb46f",
   "metadata": {
    "papermill": {
     "duration": 0.019664,
     "end_time": "2024-08-29T04:15:42.144515",
     "exception": false,
     "start_time": "2024-08-29T04:15:42.124851",
     "status": "completed"
    },
    "tags": []
   },
   "source": [
    "- dropping Null values in column \"DATE_UPDATED\"\n"
   ]
  },
  {
   "cell_type": "code",
   "execution_count": 25,
   "id": "b922213e",
   "metadata": {
    "execution": {
     "iopub.execute_input": "2024-08-29T04:15:42.185843Z",
     "iopub.status.busy": "2024-08-29T04:15:42.185454Z",
     "iopub.status.idle": "2024-08-29T04:15:42.192031Z",
     "shell.execute_reply": "2024-08-29T04:15:42.191025Z"
    },
    "papermill": {
     "duration": 0.030223,
     "end_time": "2024-08-29T04:15:42.194459",
     "exception": false,
     "start_time": "2024-08-29T04:15:42.164236",
     "status": "completed"
    },
    "tags": []
   },
   "outputs": [],
   "source": [
    "vaccination_data = vaccination_data.drop(vaccination_data[vaccination_data['DATE_UPDATED'] == 'REPORTING'].index)"
   ]
  },
  {
   "cell_type": "markdown",
   "id": "227158b2",
   "metadata": {
    "papermill": {
     "duration": 0.01948,
     "end_time": "2024-08-29T04:15:42.235631",
     "exception": false,
     "start_time": "2024-08-29T04:15:42.216151",
     "status": "completed"
    },
    "tags": []
   },
   "source": [
    "- Droping a specific row cause of inconsistency and not the correct datatype"
   ]
  },
  {
   "cell_type": "code",
   "execution_count": 26,
   "id": "c7d48fa4",
   "metadata": {
    "execution": {
     "iopub.execute_input": "2024-08-29T04:15:42.276392Z",
     "iopub.status.busy": "2024-08-29T04:15:42.276045Z",
     "iopub.status.idle": "2024-08-29T04:15:42.315369Z",
     "shell.execute_reply": "2024-08-29T04:15:42.314408Z"
    },
    "papermill": {
     "duration": 0.062185,
     "end_time": "2024-08-29T04:15:42.317649",
     "exception": false,
     "start_time": "2024-08-29T04:15:42.255464",
     "status": "completed"
    },
    "tags": []
   },
   "outputs": [
    {
     "data": {
      "text/html": [
       "<div>\n",
       "<style scoped>\n",
       "    .dataframe tbody tr th:only-of-type {\n",
       "        vertical-align: middle;\n",
       "    }\n",
       "\n",
       "    .dataframe tbody tr th {\n",
       "        vertical-align: top;\n",
       "    }\n",
       "\n",
       "    .dataframe thead th {\n",
       "        text-align: right;\n",
       "    }\n",
       "</style>\n",
       "<table border=\"1\" class=\"dataframe\">\n",
       "  <thead>\n",
       "    <tr style=\"text-align: right;\">\n",
       "      <th></th>\n",
       "      <th>count</th>\n",
       "      <th>mean</th>\n",
       "      <th>std</th>\n",
       "      <th>min</th>\n",
       "      <th>25%</th>\n",
       "      <th>50%</th>\n",
       "      <th>75%</th>\n",
       "      <th>max</th>\n",
       "    </tr>\n",
       "  </thead>\n",
       "  <tbody>\n",
       "    <tr>\n",
       "      <th>PERSONS_VACCINATED_1PLUS_DOSE</th>\n",
       "      <td>207.0</td>\n",
       "      <td>2.711717e+07</td>\n",
       "      <td>1.198076e+08</td>\n",
       "      <td>1638.0</td>\n",
       "      <td>460217.00</td>\n",
       "      <td>3753733.0</td>\n",
       "      <td>13750000.00</td>\n",
       "      <td>1.320000e+09</td>\n",
       "    </tr>\n",
       "    <tr>\n",
       "      <th>TOTAL_VACCINATIONS_PER100</th>\n",
       "      <td>206.0</td>\n",
       "      <td>1.543252e+02</td>\n",
       "      <td>8.574355e+01</td>\n",
       "      <td>4.0</td>\n",
       "      <td>82.25</td>\n",
       "      <td>154.5</td>\n",
       "      <td>222.25</td>\n",
       "      <td>4.700000e+02</td>\n",
       "    </tr>\n",
       "    <tr>\n",
       "      <th>PERSONS_VACCINATED_1PLUS_DOSE_PER100</th>\n",
       "      <td>206.0</td>\n",
       "      <td>6.288350e+01</td>\n",
       "      <td>2.406305e+01</td>\n",
       "      <td>4.0</td>\n",
       "      <td>45.25</td>\n",
       "      <td>67.0</td>\n",
       "      <td>83.00</td>\n",
       "      <td>1.000000e+02</td>\n",
       "    </tr>\n",
       "    <tr>\n",
       "      <th>PERSONS_LAST_DOSE</th>\n",
       "      <td>207.0</td>\n",
       "      <td>2.493210e+07</td>\n",
       "      <td>1.136034e+08</td>\n",
       "      <td>1635.0</td>\n",
       "      <td>412207.50</td>\n",
       "      <td>3346176.0</td>\n",
       "      <td>11650000.00</td>\n",
       "      <td>1.280000e+09</td>\n",
       "    </tr>\n",
       "    <tr>\n",
       "      <th>PERSONS_LAST_DOSE_PER100</th>\n",
       "      <td>206.0</td>\n",
       "      <td>5.786893e+01</td>\n",
       "      <td>2.420537e+01</td>\n",
       "      <td>3.0</td>\n",
       "      <td>39.00</td>\n",
       "      <td>62.5</td>\n",
       "      <td>77.75</td>\n",
       "      <td>1.000000e+02</td>\n",
       "    </tr>\n",
       "    <tr>\n",
       "      <th>VACCINES_USED</th>\n",
       "      <td>0.0</td>\n",
       "      <td>NaN</td>\n",
       "      <td>NaN</td>\n",
       "      <td>NaN</td>\n",
       "      <td>NaN</td>\n",
       "      <td>NaN</td>\n",
       "      <td>NaN</td>\n",
       "      <td>NaN</td>\n",
       "    </tr>\n",
       "    <tr>\n",
       "      <th>PERSONS_BOOSTER_ADD_DOSE</th>\n",
       "      <td>193.0</td>\n",
       "      <td>1.298811e+07</td>\n",
       "      <td>6.396833e+07</td>\n",
       "      <td>314.0</td>\n",
       "      <td>76359.00</td>\n",
       "      <td>864723.0</td>\n",
       "      <td>5322496.00</td>\n",
       "      <td>8.340000e+08</td>\n",
       "    </tr>\n",
       "    <tr>\n",
       "      <th>PERSONS_BOOSTER_ADD_DOSE_PER100</th>\n",
       "      <td>183.0</td>\n",
       "      <td>3.326776e+01</td>\n",
       "      <td>2.393626e+01</td>\n",
       "      <td>1.0</td>\n",
       "      <td>10.00</td>\n",
       "      <td>31.0</td>\n",
       "      <td>56.00</td>\n",
       "      <td>8.300000e+01</td>\n",
       "    </tr>\n",
       "    <tr>\n",
       "      <th>Unnamed: 16</th>\n",
       "      <td>0.0</td>\n",
       "      <td>NaN</td>\n",
       "      <td>NaN</td>\n",
       "      <td>NaN</td>\n",
       "      <td>NaN</td>\n",
       "      <td>NaN</td>\n",
       "      <td>NaN</td>\n",
       "      <td>NaN</td>\n",
       "    </tr>\n",
       "  </tbody>\n",
       "</table>\n",
       "</div>"
      ],
      "text/plain": [
       "                                      count          mean           std  \\\n",
       "PERSONS_VACCINATED_1PLUS_DOSE         207.0  2.711717e+07  1.198076e+08   \n",
       "TOTAL_VACCINATIONS_PER100             206.0  1.543252e+02  8.574355e+01   \n",
       "PERSONS_VACCINATED_1PLUS_DOSE_PER100  206.0  6.288350e+01  2.406305e+01   \n",
       "PERSONS_LAST_DOSE                     207.0  2.493210e+07  1.136034e+08   \n",
       "PERSONS_LAST_DOSE_PER100              206.0  5.786893e+01  2.420537e+01   \n",
       "VACCINES_USED                           0.0           NaN           NaN   \n",
       "PERSONS_BOOSTER_ADD_DOSE              193.0  1.298811e+07  6.396833e+07   \n",
       "PERSONS_BOOSTER_ADD_DOSE_PER100       183.0  3.326776e+01  2.393626e+01   \n",
       "Unnamed: 16                             0.0           NaN           NaN   \n",
       "\n",
       "                                         min        25%        50%  \\\n",
       "PERSONS_VACCINATED_1PLUS_DOSE         1638.0  460217.00  3753733.0   \n",
       "TOTAL_VACCINATIONS_PER100                4.0      82.25      154.5   \n",
       "PERSONS_VACCINATED_1PLUS_DOSE_PER100     4.0      45.25       67.0   \n",
       "PERSONS_LAST_DOSE                     1635.0  412207.50  3346176.0   \n",
       "PERSONS_LAST_DOSE_PER100                 3.0      39.00       62.5   \n",
       "VACCINES_USED                            NaN        NaN        NaN   \n",
       "PERSONS_BOOSTER_ADD_DOSE               314.0   76359.00   864723.0   \n",
       "PERSONS_BOOSTER_ADD_DOSE_PER100          1.0      10.00       31.0   \n",
       "Unnamed: 16                              NaN        NaN        NaN   \n",
       "\n",
       "                                              75%           max  \n",
       "PERSONS_VACCINATED_1PLUS_DOSE         13750000.00  1.320000e+09  \n",
       "TOTAL_VACCINATIONS_PER100                  222.25  4.700000e+02  \n",
       "PERSONS_VACCINATED_1PLUS_DOSE_PER100        83.00  1.000000e+02  \n",
       "PERSONS_LAST_DOSE                     11650000.00  1.280000e+09  \n",
       "PERSONS_LAST_DOSE_PER100                    77.75  1.000000e+02  \n",
       "VACCINES_USED                                 NaN           NaN  \n",
       "PERSONS_BOOSTER_ADD_DOSE               5322496.00  8.340000e+08  \n",
       "PERSONS_BOOSTER_ADD_DOSE_PER100             56.00  8.300000e+01  \n",
       "Unnamed: 16                                   NaN           NaN  "
      ]
     },
     "execution_count": 26,
     "metadata": {},
     "output_type": "execute_result"
    }
   ],
   "source": [
    "vaccination_data.describe().T"
   ]
  },
  {
   "cell_type": "code",
   "execution_count": 27,
   "id": "44c28a6e",
   "metadata": {
    "execution": {
     "iopub.execute_input": "2024-08-29T04:15:42.358936Z",
     "iopub.status.busy": "2024-08-29T04:15:42.358614Z",
     "iopub.status.idle": "2024-08-29T04:15:43.406230Z",
     "shell.execute_reply": "2024-08-29T04:15:43.405323Z"
    },
    "papermill": {
     "duration": 1.071176,
     "end_time": "2024-08-29T04:15:43.408826",
     "exception": false,
     "start_time": "2024-08-29T04:15:42.337650",
     "status": "completed"
    },
    "tags": []
   },
   "outputs": [],
   "source": [
    "from scipy.stats.mstats import winsorize\n",
    "\n",
    "columns_to_check = ['PERSONS_VACCINATED_1PLUS_DOSE', 'TOTAL_VACCINATIONS_PER100','PERSONS_VACCINATED_1PLUS_DOSE_PER100', 'PERSONS_LAST_DOSE', 'PERSONS_LAST_DOSE_PER100', 'PERSONS_BOOSTER_ADD_DOSE', 'PERSONS_BOOSTER_ADD_DOSE_PER100']\n",
    "\n",
    "if vaccination_data.shape[0] > 0:  # Check if there are any rows\n",
    "    for col in columns_to_check:\n",
    "        vaccination_data[col] = winsorize(vaccination_data[col], limits=0.05)"
   ]
  },
  {
   "cell_type": "markdown",
   "id": "453a3f48",
   "metadata": {
    "papermill": {
     "duration": 0.022439,
     "end_time": "2024-08-29T04:15:43.452416",
     "exception": false,
     "start_time": "2024-08-29T04:15:43.429977",
     "status": "completed"
    },
    "tags": []
   },
   "source": [
    "- Checks if the DataFrame has any rows.\n",
    "- Iterates through each specified column.\n",
    "- Caps the extreme values in each column using winsorize.\n",
    "- winsorize: This function is used to cap extreme values in a dataset, effectively handling outliers.\n",
    "- The limits=0.05 argument specifies that the top and bottom 5% of the data points will be capped. This means that the outliers (the extreme values) will be replaced with the values at the 5th and 95th percentiles."
   ]
  },
  {
   "cell_type": "code",
   "execution_count": 28,
   "id": "20f14436",
   "metadata": {
    "execution": {
     "iopub.execute_input": "2024-08-29T04:15:43.504748Z",
     "iopub.status.busy": "2024-08-29T04:15:43.504256Z",
     "iopub.status.idle": "2024-08-29T04:15:43.569285Z",
     "shell.execute_reply": "2024-08-29T04:15:43.567986Z"
    },
    "papermill": {
     "duration": 0.092528,
     "end_time": "2024-08-29T04:15:43.571864",
     "exception": false,
     "start_time": "2024-08-29T04:15:43.479336",
     "status": "completed"
    },
    "tags": []
   },
   "outputs": [
    {
     "name": "stderr",
     "output_type": "stream",
     "text": [
      "/opt/conda/lib/python3.10/site-packages/numpy/lib/function_base.py:4824: UserWarning: Warning: 'partition' will ignore the 'mask' of the MaskedArray.\n",
      "  arr.partition(\n",
      "/opt/conda/lib/python3.10/site-packages/numpy/lib/function_base.py:4824: UserWarning: Warning: 'partition' will ignore the 'mask' of the MaskedArray.\n",
      "  arr.partition(\n",
      "/opt/conda/lib/python3.10/site-packages/numpy/lib/function_base.py:4824: UserWarning: Warning: 'partition' will ignore the 'mask' of the MaskedArray.\n",
      "  arr.partition(\n",
      "/opt/conda/lib/python3.10/site-packages/numpy/lib/function_base.py:4824: UserWarning: Warning: 'partition' will ignore the 'mask' of the MaskedArray.\n",
      "  arr.partition(\n",
      "/opt/conda/lib/python3.10/site-packages/numpy/lib/function_base.py:4824: UserWarning: Warning: 'partition' will ignore the 'mask' of the MaskedArray.\n",
      "  arr.partition(\n",
      "/opt/conda/lib/python3.10/site-packages/pandas/core/construction.py:820: UserWarning: Warning: converting a masked element to nan.\n",
      "  subarr = np.asarray(arr, dtype=dtype)\n",
      "/opt/conda/lib/python3.10/site-packages/numpy/lib/function_base.py:4824: UserWarning: Warning: 'partition' will ignore the 'mask' of the MaskedArray.\n",
      "  arr.partition(\n",
      "/opt/conda/lib/python3.10/site-packages/numpy/lib/function_base.py:4824: UserWarning: Warning: 'partition' will ignore the 'mask' of the MaskedArray.\n",
      "  arr.partition(\n",
      "/opt/conda/lib/python3.10/site-packages/pandas/core/construction.py:820: UserWarning: Warning: converting a masked element to nan.\n",
      "  subarr = np.asarray(arr, dtype=dtype)\n"
     ]
    },
    {
     "data": {
      "text/html": [
       "<div>\n",
       "<style scoped>\n",
       "    .dataframe tbody tr th:only-of-type {\n",
       "        vertical-align: middle;\n",
       "    }\n",
       "\n",
       "    .dataframe tbody tr th {\n",
       "        vertical-align: top;\n",
       "    }\n",
       "\n",
       "    .dataframe thead th {\n",
       "        text-align: right;\n",
       "    }\n",
       "</style>\n",
       "<table border=\"1\" class=\"dataframe\">\n",
       "  <thead>\n",
       "    <tr style=\"text-align: right;\">\n",
       "      <th></th>\n",
       "      <th>count</th>\n",
       "      <th>mean</th>\n",
       "      <th>std</th>\n",
       "      <th>min</th>\n",
       "      <th>25%</th>\n",
       "      <th>50%</th>\n",
       "      <th>75%</th>\n",
       "      <th>max</th>\n",
       "    </tr>\n",
       "  </thead>\n",
       "  <tbody>\n",
       "    <tr>\n",
       "      <th>PERSONS_VACCINATED_1PLUS_DOSE</th>\n",
       "      <td>207.0</td>\n",
       "      <td>1.398988e+07</td>\n",
       "      <td>2.399692e+07</td>\n",
       "      <td>25123.0</td>\n",
       "      <td>460217.0</td>\n",
       "      <td>3753733.0</td>\n",
       "      <td>13750000.0</td>\n",
       "      <td>90500000.0</td>\n",
       "    </tr>\n",
       "    <tr>\n",
       "      <th>TOTAL_VACCINATIONS_PER100</th>\n",
       "      <td>207.0</td>\n",
       "      <td>1.530097e+02</td>\n",
       "      <td>7.915108e+01</td>\n",
       "      <td>29.0</td>\n",
       "      <td>82.5</td>\n",
       "      <td>155.0</td>\n",
       "      <td>223.5</td>\n",
       "      <td>278.0</td>\n",
       "    </tr>\n",
       "    <tr>\n",
       "      <th>PERSONS_VACCINATED_1PLUS_DOSE_PER100</th>\n",
       "      <td>207.0</td>\n",
       "      <td>6.325121e+01</td>\n",
       "      <td>2.312051e+01</td>\n",
       "      <td>19.0</td>\n",
       "      <td>45.5</td>\n",
       "      <td>67.0</td>\n",
       "      <td>83.0</td>\n",
       "      <td>96.0</td>\n",
       "    </tr>\n",
       "    <tr>\n",
       "      <th>PERSONS_LAST_DOSE</th>\n",
       "      <td>207.0</td>\n",
       "      <td>1.261249e+07</td>\n",
       "      <td>2.174719e+07</td>\n",
       "      <td>23633.0</td>\n",
       "      <td>412207.5</td>\n",
       "      <td>3346176.0</td>\n",
       "      <td>11650000.0</td>\n",
       "      <td>81300000.0</td>\n",
       "    </tr>\n",
       "    <tr>\n",
       "      <th>PERSONS_LAST_DOSE_PER100</th>\n",
       "      <td>207.0</td>\n",
       "      <td>5.804348e+01</td>\n",
       "      <td>2.325279e+01</td>\n",
       "      <td>15.0</td>\n",
       "      <td>39.0</td>\n",
       "      <td>63.0</td>\n",
       "      <td>78.0</td>\n",
       "      <td>92.0</td>\n",
       "    </tr>\n",
       "    <tr>\n",
       "      <th>VACCINES_USED</th>\n",
       "      <td>0.0</td>\n",
       "      <td>NaN</td>\n",
       "      <td>NaN</td>\n",
       "      <td>NaN</td>\n",
       "      <td>NaN</td>\n",
       "      <td>NaN</td>\n",
       "      <td>NaN</td>\n",
       "      <td>NaN</td>\n",
       "    </tr>\n",
       "    <tr>\n",
       "      <th>PERSONS_BOOSTER_ADD_DOSE</th>\n",
       "      <td>193.0</td>\n",
       "      <td>1.298821e+07</td>\n",
       "      <td>6.396831e+07</td>\n",
       "      <td>3726.0</td>\n",
       "      <td>76359.0</td>\n",
       "      <td>864723.0</td>\n",
       "      <td>5322496.0</td>\n",
       "      <td>834000000.0</td>\n",
       "    </tr>\n",
       "    <tr>\n",
       "      <th>PERSONS_BOOSTER_ADD_DOSE_PER100</th>\n",
       "      <td>183.0</td>\n",
       "      <td>3.332240e+01</td>\n",
       "      <td>2.386477e+01</td>\n",
       "      <td>3.0</td>\n",
       "      <td>10.0</td>\n",
       "      <td>31.0</td>\n",
       "      <td>56.0</td>\n",
       "      <td>83.0</td>\n",
       "    </tr>\n",
       "    <tr>\n",
       "      <th>Unnamed: 16</th>\n",
       "      <td>0.0</td>\n",
       "      <td>NaN</td>\n",
       "      <td>NaN</td>\n",
       "      <td>NaN</td>\n",
       "      <td>NaN</td>\n",
       "      <td>NaN</td>\n",
       "      <td>NaN</td>\n",
       "      <td>NaN</td>\n",
       "    </tr>\n",
       "  </tbody>\n",
       "</table>\n",
       "</div>"
      ],
      "text/plain": [
       "                                      count          mean           std  \\\n",
       "PERSONS_VACCINATED_1PLUS_DOSE         207.0  1.398988e+07  2.399692e+07   \n",
       "TOTAL_VACCINATIONS_PER100             207.0  1.530097e+02  7.915108e+01   \n",
       "PERSONS_VACCINATED_1PLUS_DOSE_PER100  207.0  6.325121e+01  2.312051e+01   \n",
       "PERSONS_LAST_DOSE                     207.0  1.261249e+07  2.174719e+07   \n",
       "PERSONS_LAST_DOSE_PER100              207.0  5.804348e+01  2.325279e+01   \n",
       "VACCINES_USED                           0.0           NaN           NaN   \n",
       "PERSONS_BOOSTER_ADD_DOSE              193.0  1.298821e+07  6.396831e+07   \n",
       "PERSONS_BOOSTER_ADD_DOSE_PER100       183.0  3.332240e+01  2.386477e+01   \n",
       "Unnamed: 16                             0.0           NaN           NaN   \n",
       "\n",
       "                                          min       25%        50%  \\\n",
       "PERSONS_VACCINATED_1PLUS_DOSE         25123.0  460217.0  3753733.0   \n",
       "TOTAL_VACCINATIONS_PER100                29.0      82.5      155.0   \n",
       "PERSONS_VACCINATED_1PLUS_DOSE_PER100     19.0      45.5       67.0   \n",
       "PERSONS_LAST_DOSE                     23633.0  412207.5  3346176.0   \n",
       "PERSONS_LAST_DOSE_PER100                 15.0      39.0       63.0   \n",
       "VACCINES_USED                             NaN       NaN        NaN   \n",
       "PERSONS_BOOSTER_ADD_DOSE               3726.0   76359.0   864723.0   \n",
       "PERSONS_BOOSTER_ADD_DOSE_PER100           3.0      10.0       31.0   \n",
       "Unnamed: 16                               NaN       NaN        NaN   \n",
       "\n",
       "                                             75%          max  \n",
       "PERSONS_VACCINATED_1PLUS_DOSE         13750000.0   90500000.0  \n",
       "TOTAL_VACCINATIONS_PER100                  223.5        278.0  \n",
       "PERSONS_VACCINATED_1PLUS_DOSE_PER100        83.0         96.0  \n",
       "PERSONS_LAST_DOSE                     11650000.0   81300000.0  \n",
       "PERSONS_LAST_DOSE_PER100                    78.0         92.0  \n",
       "VACCINES_USED                                NaN          NaN  \n",
       "PERSONS_BOOSTER_ADD_DOSE               5322496.0  834000000.0  \n",
       "PERSONS_BOOSTER_ADD_DOSE_PER100             56.0         83.0  \n",
       "Unnamed: 16                                  NaN          NaN  "
      ]
     },
     "execution_count": 28,
     "metadata": {},
     "output_type": "execute_result"
    }
   ],
   "source": [
    "vaccination_data.describe().T"
   ]
  },
  {
   "cell_type": "code",
   "execution_count": 29,
   "id": "b8de8d10",
   "metadata": {
    "execution": {
     "iopub.execute_input": "2024-08-29T04:15:43.617050Z",
     "iopub.status.busy": "2024-08-29T04:15:43.616723Z",
     "iopub.status.idle": "2024-08-29T04:15:43.626954Z",
     "shell.execute_reply": "2024-08-29T04:15:43.626009Z"
    },
    "papermill": {
     "duration": 0.034287,
     "end_time": "2024-08-29T04:15:43.629267",
     "exception": false,
     "start_time": "2024-08-29T04:15:43.594980",
     "status": "completed"
    },
    "tags": []
   },
   "outputs": [
    {
     "data": {
      "text/plain": [
       "0"
      ]
     },
     "execution_count": 29,
     "metadata": {},
     "output_type": "execute_result"
    }
   ],
   "source": [
    "vaccination_data.duplicated().sum()"
   ]
  },
  {
   "cell_type": "markdown",
   "id": "5e000c9b",
   "metadata": {
    "papermill": {
     "duration": 0.020884,
     "end_time": "2024-08-29T04:15:43.672362",
     "exception": false,
     "start_time": "2024-08-29T04:15:43.651478",
     "status": "completed"
    },
    "tags": []
   },
   "source": [
    "- No duplicates in the data"
   ]
  },
  {
   "cell_type": "code",
   "execution_count": 30,
   "id": "2e3a3195",
   "metadata": {
    "execution": {
     "iopub.execute_input": "2024-08-29T04:15:43.715709Z",
     "iopub.status.busy": "2024-08-29T04:15:43.715392Z",
     "iopub.status.idle": "2024-08-29T04:15:43.732629Z",
     "shell.execute_reply": "2024-08-29T04:15:43.731622Z"
    },
    "papermill": {
     "duration": 0.042301,
     "end_time": "2024-08-29T04:15:43.735433",
     "exception": false,
     "start_time": "2024-08-29T04:15:43.693132",
     "status": "completed"
    },
    "tags": []
   },
   "outputs": [
    {
     "name": "stdout",
     "output_type": "stream",
     "text": [
      "<class 'pandas.core.frame.DataFrame'>\n",
      "Index: 207 entries, 0 to 214\n",
      "Data columns (total 17 columns):\n",
      " #   Column                                Non-Null Count  Dtype  \n",
      "---  ------                                --------------  -----  \n",
      " 0   COUNTRY                               207 non-null    object \n",
      " 1   ISO3                                  207 non-null    object \n",
      " 2   WHO_REGION                            207 non-null    object \n",
      " 3   DATA_SOURCE                           207 non-null    object \n",
      " 4   DATE_UPDATED                          207 non-null    object \n",
      " 5   TOTAL_VACCINATIONS                    207 non-null    object \n",
      " 6   PERSONS_VACCINATED_1PLUS_DOSE         207 non-null    float64\n",
      " 7   TOTAL_VACCINATIONS_PER100             207 non-null    float64\n",
      " 8   PERSONS_VACCINATED_1PLUS_DOSE_PER100  207 non-null    float64\n",
      " 9   PERSONS_LAST_DOSE                     207 non-null    float64\n",
      " 10  PERSONS_LAST_DOSE_PER100              207 non-null    float64\n",
      " 11  VACCINES_USED                         0 non-null      float64\n",
      " 12  FIRST_VACCINE_DATE                    195 non-null    object \n",
      " 13  NUMBER_VACCINES_TYPES_USED            0 non-null      object \n",
      " 14  PERSONS_BOOSTER_ADD_DOSE              193 non-null    float64\n",
      " 15  PERSONS_BOOSTER_ADD_DOSE_PER100       183 non-null    float64\n",
      " 16  Unnamed: 16                           0 non-null      float64\n",
      "dtypes: float64(9), object(8)\n",
      "memory usage: 29.1+ KB\n"
     ]
    }
   ],
   "source": [
    "vaccination_data.info()"
   ]
  },
  {
   "cell_type": "code",
   "execution_count": 31,
   "id": "ddf13f93",
   "metadata": {
    "execution": {
     "iopub.execute_input": "2024-08-29T04:15:43.780216Z",
     "iopub.status.busy": "2024-08-29T04:15:43.779876Z",
     "iopub.status.idle": "2024-08-29T04:15:43.786455Z",
     "shell.execute_reply": "2024-08-29T04:15:43.785593Z"
    },
    "papermill": {
     "duration": 0.030398,
     "end_time": "2024-08-29T04:15:43.788618",
     "exception": false,
     "start_time": "2024-08-29T04:15:43.758220",
     "status": "completed"
    },
    "tags": []
   },
   "outputs": [],
   "source": [
    "vaccination_data = vaccination_data.drop(vaccination_data[vaccination_data['TOTAL_VACCINATIONS'] == '18/10/2022'].index)"
   ]
  },
  {
   "cell_type": "markdown",
   "id": "0c91a42a",
   "metadata": {
    "papermill": {
     "duration": 0.020954,
     "end_time": "2024-08-29T04:15:43.830360",
     "exception": false,
     "start_time": "2024-08-29T04:15:43.809406",
     "status": "completed"
    },
    "tags": []
   },
   "source": [
    "- dropped a specific row in column 'TOTAL_VACCINATIONS' cause of inconsistency and wrong datatype"
   ]
  },
  {
   "cell_type": "code",
   "execution_count": 32,
   "id": "ca99714e",
   "metadata": {
    "execution": {
     "iopub.execute_input": "2024-08-29T04:15:43.873649Z",
     "iopub.status.busy": "2024-08-29T04:15:43.873341Z",
     "iopub.status.idle": "2024-08-29T04:15:43.878257Z",
     "shell.execute_reply": "2024-08-29T04:15:43.877316Z"
    },
    "papermill": {
     "duration": 0.029112,
     "end_time": "2024-08-29T04:15:43.880383",
     "exception": false,
     "start_time": "2024-08-29T04:15:43.851271",
     "status": "completed"
    },
    "tags": []
   },
   "outputs": [],
   "source": [
    "vaccination_data['TOTAL_VACCINATIONS'] = vaccination_data['TOTAL_VACCINATIONS'].astype(float)"
   ]
  },
  {
   "cell_type": "markdown",
   "id": "a41ff166",
   "metadata": {
    "papermill": {
     "duration": 0.020598,
     "end_time": "2024-08-29T04:15:43.921517",
     "exception": false,
     "start_time": "2024-08-29T04:15:43.900919",
     "status": "completed"
    },
    "tags": []
   },
   "source": [
    "- changed column 'TOTAL_VACCINATIONS' from Object to Float"
   ]
  },
  {
   "cell_type": "code",
   "execution_count": 33,
   "id": "3ee4f5cd",
   "metadata": {
    "execution": {
     "iopub.execute_input": "2024-08-29T04:15:43.964456Z",
     "iopub.status.busy": "2024-08-29T04:15:43.964120Z",
     "iopub.status.idle": "2024-08-29T04:15:43.969217Z",
     "shell.execute_reply": "2024-08-29T04:15:43.968177Z"
    },
    "papermill": {
     "duration": 0.029235,
     "end_time": "2024-08-29T04:15:43.971574",
     "exception": false,
     "start_time": "2024-08-29T04:15:43.942339",
     "status": "completed"
    },
    "tags": []
   },
   "outputs": [],
   "source": [
    "average_total_vac = vaccination_data['TOTAL_VACCINATIONS'].mean()\n",
    "\n",
    "vaccination_data['TOTAL_VACCINATIONS'] = vaccination_data['TOTAL_VACCINATIONS'].fillna(average_total_vac)"
   ]
  },
  {
   "cell_type": "markdown",
   "id": "9eb8f9ba",
   "metadata": {
    "papermill": {
     "duration": 0.02045,
     "end_time": "2024-08-29T04:15:44.014574",
     "exception": false,
     "start_time": "2024-08-29T04:15:43.994124",
     "status": "completed"
    },
    "tags": []
   },
   "source": [
    "- filled every Null value in column 'TOTAL_VACCINATIONS' with the Average"
   ]
  },
  {
   "cell_type": "code",
   "execution_count": 34,
   "id": "bdb1de05",
   "metadata": {
    "execution": {
     "iopub.execute_input": "2024-08-29T04:15:44.059803Z",
     "iopub.status.busy": "2024-08-29T04:15:44.059135Z",
     "iopub.status.idle": "2024-08-29T04:15:44.065752Z",
     "shell.execute_reply": "2024-08-29T04:15:44.064935Z"
    },
    "papermill": {
     "duration": 0.030589,
     "end_time": "2024-08-29T04:15:44.067857",
     "exception": false,
     "start_time": "2024-08-29T04:15:44.037268",
     "status": "completed"
    },
    "tags": []
   },
   "outputs": [],
   "source": [
    "vaccination_data = vaccination_data.dropna(subset=['PERSONS_VACCINATED_1PLUS_DOSE_PER100'])"
   ]
  },
  {
   "cell_type": "markdown",
   "id": "7a97359f",
   "metadata": {
    "papermill": {
     "duration": 0.021135,
     "end_time": "2024-08-29T04:15:44.109698",
     "exception": false,
     "start_time": "2024-08-29T04:15:44.088563",
     "status": "completed"
    },
    "tags": []
   },
   "source": [
    "- dropped Null values in column 'PERSONS_VACCINATED_1PLUS_DOSE_PER100'"
   ]
  },
  {
   "cell_type": "code",
   "execution_count": 35,
   "id": "25d255f2",
   "metadata": {
    "execution": {
     "iopub.execute_input": "2024-08-29T04:15:44.152682Z",
     "iopub.status.busy": "2024-08-29T04:15:44.152366Z",
     "iopub.status.idle": "2024-08-29T04:15:44.160536Z",
     "shell.execute_reply": "2024-08-29T04:15:44.159561Z"
    },
    "papermill": {
     "duration": 0.032699,
     "end_time": "2024-08-29T04:15:44.163247",
     "exception": false,
     "start_time": "2024-08-29T04:15:44.130548",
     "status": "completed"
    },
    "tags": []
   },
   "outputs": [
    {
     "data": {
      "text/plain": [
       "COUNTRY                                   0\n",
       "ISO3                                      0\n",
       "WHO_REGION                                0\n",
       "DATA_SOURCE                               0\n",
       "DATE_UPDATED                              0\n",
       "TOTAL_VACCINATIONS                        0\n",
       "PERSONS_VACCINATED_1PLUS_DOSE             0\n",
       "TOTAL_VACCINATIONS_PER100                 0\n",
       "PERSONS_VACCINATED_1PLUS_DOSE_PER100      0\n",
       "PERSONS_LAST_DOSE                         0\n",
       "PERSONS_LAST_DOSE_PER100                  0\n",
       "VACCINES_USED                           207\n",
       "FIRST_VACCINE_DATE                       12\n",
       "NUMBER_VACCINES_TYPES_USED              207\n",
       "PERSONS_BOOSTER_ADD_DOSE                 14\n",
       "PERSONS_BOOSTER_ADD_DOSE_PER100          24\n",
       "Unnamed: 16                             207\n",
       "dtype: int64"
      ]
     },
     "execution_count": 35,
     "metadata": {},
     "output_type": "execute_result"
    }
   ],
   "source": [
    "vaccination_data.isna().sum()"
   ]
  },
  {
   "cell_type": "code",
   "execution_count": 36,
   "id": "eee5e3aa",
   "metadata": {
    "execution": {
     "iopub.execute_input": "2024-08-29T04:15:44.208388Z",
     "iopub.status.busy": "2024-08-29T04:15:44.208057Z",
     "iopub.status.idle": "2024-08-29T04:15:44.212999Z",
     "shell.execute_reply": "2024-08-29T04:15:44.212043Z"
    },
    "papermill": {
     "duration": 0.029061,
     "end_time": "2024-08-29T04:15:44.215232",
     "exception": false,
     "start_time": "2024-08-29T04:15:44.186171",
     "status": "completed"
    },
    "tags": []
   },
   "outputs": [],
   "source": [
    "vaccination_data = vaccination_data.drop(columns='Unnamed: 16')"
   ]
  },
  {
   "cell_type": "markdown",
   "id": "4a7e210c",
   "metadata": {
    "papermill": {
     "duration": 0.021512,
     "end_time": "2024-08-29T04:15:44.257594",
     "exception": false,
     "start_time": "2024-08-29T04:15:44.236082",
     "status": "completed"
    },
    "tags": []
   },
   "source": [
    "- Dropped Column \"Unnamed: 16\" cause its an empty Column"
   ]
  },
  {
   "cell_type": "code",
   "execution_count": 37,
   "id": "a9469f39",
   "metadata": {
    "execution": {
     "iopub.execute_input": "2024-08-29T04:15:44.302488Z",
     "iopub.status.busy": "2024-08-29T04:15:44.301847Z",
     "iopub.status.idle": "2024-08-29T04:15:44.307548Z",
     "shell.execute_reply": "2024-08-29T04:15:44.306496Z"
    },
    "papermill": {
     "duration": 0.029795,
     "end_time": "2024-08-29T04:15:44.310031",
     "exception": false,
     "start_time": "2024-08-29T04:15:44.280236",
     "status": "completed"
    },
    "tags": []
   },
   "outputs": [],
   "source": [
    "vaccination_data = vaccination_data.drop(columns='VACCINES_USED')\n",
    "vaccination_data = vaccination_data.drop(columns='NUMBER_VACCINES_TYPES_USED')"
   ]
  },
  {
   "cell_type": "markdown",
   "id": "43b92f9e",
   "metadata": {
    "papermill": {
     "duration": 0.020835,
     "end_time": "2024-08-29T04:15:44.353630",
     "exception": false,
     "start_time": "2024-08-29T04:15:44.332795",
     "status": "completed"
    },
    "tags": []
   },
   "source": [
    "- 'VACCINES_USED' and 'NUMBER_VACCINES_TYPES_USED' are dropped cause no data are in the columns"
   ]
  },
  {
   "cell_type": "code",
   "execution_count": 38,
   "id": "f6fc1497",
   "metadata": {
    "execution": {
     "iopub.execute_input": "2024-08-29T04:15:44.397034Z",
     "iopub.status.busy": "2024-08-29T04:15:44.396689Z",
     "iopub.status.idle": "2024-08-29T04:15:44.405232Z",
     "shell.execute_reply": "2024-08-29T04:15:44.404088Z"
    },
    "papermill": {
     "duration": 0.033052,
     "end_time": "2024-08-29T04:15:44.407687",
     "exception": false,
     "start_time": "2024-08-29T04:15:44.374635",
     "status": "completed"
    },
    "tags": []
   },
   "outputs": [
    {
     "data": {
      "text/plain": [
       "COUNTRY                                  0\n",
       "ISO3                                     0\n",
       "WHO_REGION                               0\n",
       "DATA_SOURCE                              0\n",
       "DATE_UPDATED                             0\n",
       "TOTAL_VACCINATIONS                       0\n",
       "PERSONS_VACCINATED_1PLUS_DOSE            0\n",
       "TOTAL_VACCINATIONS_PER100                0\n",
       "PERSONS_VACCINATED_1PLUS_DOSE_PER100     0\n",
       "PERSONS_LAST_DOSE                        0\n",
       "PERSONS_LAST_DOSE_PER100                 0\n",
       "FIRST_VACCINE_DATE                      12\n",
       "PERSONS_BOOSTER_ADD_DOSE                14\n",
       "PERSONS_BOOSTER_ADD_DOSE_PER100         24\n",
       "dtype: int64"
      ]
     },
     "execution_count": 38,
     "metadata": {},
     "output_type": "execute_result"
    }
   ],
   "source": [
    "vaccination_data.isna().sum()"
   ]
  },
  {
   "cell_type": "code",
   "execution_count": 39,
   "id": "4dba2d92",
   "metadata": {
    "execution": {
     "iopub.execute_input": "2024-08-29T04:15:44.451023Z",
     "iopub.status.busy": "2024-08-29T04:15:44.450684Z",
     "iopub.status.idle": "2024-08-29T04:15:44.456541Z",
     "shell.execute_reply": "2024-08-29T04:15:44.455632Z"
    },
    "papermill": {
     "duration": 0.030083,
     "end_time": "2024-08-29T04:15:44.458833",
     "exception": false,
     "start_time": "2024-08-29T04:15:44.428750",
     "status": "completed"
    },
    "tags": []
   },
   "outputs": [
    {
     "data": {
      "text/plain": [
       "(207, 14)"
      ]
     },
     "execution_count": 39,
     "metadata": {},
     "output_type": "execute_result"
    }
   ],
   "source": [
    "vaccination_data.shape"
   ]
  },
  {
   "cell_type": "code",
   "execution_count": 40,
   "id": "a191ca8e",
   "metadata": {
    "execution": {
     "iopub.execute_input": "2024-08-29T04:15:44.502688Z",
     "iopub.status.busy": "2024-08-29T04:15:44.502378Z",
     "iopub.status.idle": "2024-08-29T04:15:44.507642Z",
     "shell.execute_reply": "2024-08-29T04:15:44.506738Z"
    },
    "papermill": {
     "duration": 0.029471,
     "end_time": "2024-08-29T04:15:44.509748",
     "exception": false,
     "start_time": "2024-08-29T04:15:44.480277",
     "status": "completed"
    },
    "tags": []
   },
   "outputs": [],
   "source": [
    "vaccination_data['FIRST_VACCINE_DATE'] =vaccination_data['FIRST_VACCINE_DATE'].fillna('unknown')"
   ]
  },
  {
   "cell_type": "markdown",
   "id": "99b98cbd",
   "metadata": {
    "papermill": {
     "duration": 0.020826,
     "end_time": "2024-08-29T04:15:44.551723",
     "exception": false,
     "start_time": "2024-08-29T04:15:44.530897",
     "status": "completed"
    },
    "tags": []
   },
   "source": [
    "- filled the Null values in column 'FIRST_VACCINE_DATE' with 'unknown'"
   ]
  },
  {
   "cell_type": "code",
   "execution_count": 41,
   "id": "d2dde5d4",
   "metadata": {
    "execution": {
     "iopub.execute_input": "2024-08-29T04:15:44.595255Z",
     "iopub.status.busy": "2024-08-29T04:15:44.594901Z",
     "iopub.status.idle": "2024-08-29T04:15:44.601669Z",
     "shell.execute_reply": "2024-08-29T04:15:44.600692Z"
    },
    "papermill": {
     "duration": 0.030955,
     "end_time": "2024-08-29T04:15:44.603809",
     "exception": false,
     "start_time": "2024-08-29T04:15:44.572854",
     "status": "completed"
    },
    "tags": []
   },
   "outputs": [],
   "source": [
    "average_PERSONS_BOOSTER_ADD_DOSE = vaccination_data['PERSONS_BOOSTER_ADD_DOSE'].mean()\n",
    "\n",
    "vaccination_data['PERSONS_BOOSTER_ADD_DOSE'] = vaccination_data['PERSONS_BOOSTER_ADD_DOSE'].fillna(average_PERSONS_BOOSTER_ADD_DOSE)\n",
    "\n",
    "\n",
    "\n",
    "average_PERSONS_BOOSTER_ADD_DOSE_PER100 = vaccination_data['PERSONS_BOOSTER_ADD_DOSE_PER100'].mean()\n",
    "\n",
    "vaccination_data['PERSONS_BOOSTER_ADD_DOSE_PER100'] = vaccination_data['PERSONS_BOOSTER_ADD_DOSE_PER100'].fillna(average_PERSONS_BOOSTER_ADD_DOSE_PER100)"
   ]
  },
  {
   "cell_type": "markdown",
   "id": "5699f276",
   "metadata": {
    "papermill": {
     "duration": 0.021223,
     "end_time": "2024-08-29T04:15:44.646017",
     "exception": false,
     "start_time": "2024-08-29T04:15:44.624794",
     "status": "completed"
    },
    "tags": []
   },
   "source": [
    "- filled the null values in columns 'PERSONS_BOOSTER_ADD_DOSE' and 'PERSONS_BOOSTER_ADD_DOSE_PER100' with the average for each column"
   ]
  },
  {
   "cell_type": "code",
   "execution_count": 42,
   "id": "cc9ed40c",
   "metadata": {
    "execution": {
     "iopub.execute_input": "2024-08-29T04:15:44.689367Z",
     "iopub.status.busy": "2024-08-29T04:15:44.689056Z",
     "iopub.status.idle": "2024-08-29T04:15:44.697156Z",
     "shell.execute_reply": "2024-08-29T04:15:44.696144Z"
    },
    "papermill": {
     "duration": 0.032414,
     "end_time": "2024-08-29T04:15:44.699467",
     "exception": false,
     "start_time": "2024-08-29T04:15:44.667053",
     "status": "completed"
    },
    "tags": []
   },
   "outputs": [
    {
     "data": {
      "text/plain": [
       "COUNTRY                                 0\n",
       "ISO3                                    0\n",
       "WHO_REGION                              0\n",
       "DATA_SOURCE                             0\n",
       "DATE_UPDATED                            0\n",
       "TOTAL_VACCINATIONS                      0\n",
       "PERSONS_VACCINATED_1PLUS_DOSE           0\n",
       "TOTAL_VACCINATIONS_PER100               0\n",
       "PERSONS_VACCINATED_1PLUS_DOSE_PER100    0\n",
       "PERSONS_LAST_DOSE                       0\n",
       "PERSONS_LAST_DOSE_PER100                0\n",
       "FIRST_VACCINE_DATE                      0\n",
       "PERSONS_BOOSTER_ADD_DOSE                0\n",
       "PERSONS_BOOSTER_ADD_DOSE_PER100         0\n",
       "dtype: int64"
      ]
     },
     "execution_count": 42,
     "metadata": {},
     "output_type": "execute_result"
    }
   ],
   "source": [
    "vaccination_data.isna().sum()"
   ]
  },
  {
   "cell_type": "markdown",
   "id": "d3e6a633",
   "metadata": {
    "papermill": {
     "duration": 0.021145,
     "end_time": "2024-08-29T04:15:44.744177",
     "exception": false,
     "start_time": "2024-08-29T04:15:44.723032",
     "status": "completed"
    },
    "tags": []
   },
   "source": [
    "- No Null values\n",
    "- No duplicates\n",
    "- No inconsistency\n",
    "- No wrong datatypes\n",
    "- Outliers are removed\n",
    "- All columns are cleaned"
   ]
  },
  {
   "cell_type": "markdown",
   "id": "6a9bbb50",
   "metadata": {
    "papermill": {
     "duration": 0.021269,
     "end_time": "2024-08-29T04:15:44.786622",
     "exception": false,
     "start_time": "2024-08-29T04:15:44.765353",
     "status": "completed"
    },
    "tags": []
   },
   "source": [
    "# Data Analysis Part:-"
   ]
  },
  {
   "cell_type": "code",
   "execution_count": null,
   "id": "74917630",
   "metadata": {
    "papermill": {
     "duration": 0.020945,
     "end_time": "2024-08-29T04:15:44.828724",
     "exception": false,
     "start_time": "2024-08-29T04:15:44.807779",
     "status": "completed"
    },
    "tags": []
   },
   "outputs": [],
   "source": []
  }
 ],
 "metadata": {
  "kaggle": {
   "accelerator": "nvidiaTeslaT4",
   "dataSources": [
    {
     "datasetId": 5598499,
     "sourceId": 9253639,
     "sourceType": "datasetVersion"
    }
   ],
   "dockerImageVersionId": 30761,
   "isGpuEnabled": true,
   "isInternetEnabled": true,
   "language": "python",
   "sourceType": "notebook"
  },
  "kernelspec": {
   "display_name": "Python 3",
   "language": "python",
   "name": "python3"
  },
  "language_info": {
   "codemirror_mode": {
    "name": "ipython",
    "version": 3
   },
   "file_extension": ".py",
   "mimetype": "text/x-python",
   "name": "python",
   "nbconvert_exporter": "python",
   "pygments_lexer": "ipython3",
   "version": "3.10.14"
  },
  "papermill": {
   "default_parameters": {},
   "duration": 9.027211,
   "end_time": "2024-08-29T04:15:45.268998",
   "environment_variables": {},
   "exception": null,
   "input_path": "__notebook__.ipynb",
   "output_path": "__notebook__.ipynb",
   "parameters": {},
   "start_time": "2024-08-29T04:15:36.241787",
   "version": "2.6.0"
  }
 },
 "nbformat": 4,
 "nbformat_minor": 5
}
